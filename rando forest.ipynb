{
 "cells": [
  {
   "cell_type": "code",
   "execution_count": 1,
   "metadata": {
    "id": "R94PAhXPZlGg"
   },
   "outputs": [],
   "source": [
    "import pandas as pd\n",
    "import numpy as np\n",
    "import seaborn as sns\n",
    "import matplotlib.pyplot as plt"
   ]
  },
  {
   "cell_type": "code",
   "execution_count": 2,
   "metadata": {
    "id": "d4UVvpAEZngB"
   },
   "outputs": [],
   "source": [
    "\n",
    "data = pd.read_csv('./dataset/train.csv')\n",
    "test_data = pd.read_csv('./dataset/test.csv')"
   ]
  },
  {
   "cell_type": "markdown",
   "metadata": {
    "id": "ykKW2VgvsTrg"
   },
   "source": [
    "Well look at some of the data"
   ]
  },
  {
   "cell_type": "code",
   "execution_count": 3,
   "metadata": {
    "colab": {
     "base_uri": "https://localhost:8080/",
     "height": 299
    },
    "executionInfo": {
     "elapsed": 92,
     "status": "ok",
     "timestamp": 1679414290961,
     "user": {
      "displayName": "Axnusic Edith",
      "userId": "07636372885580572742"
     },
     "user_tz": -345
    },
    "id": "V4NI61n2ISEu",
    "outputId": "b6becf99-8bd2-40fb-a228-b797f6ea2402"
   },
   "outputs": [
    {
     "data": {
      "text/html": [
       "<div>\n",
       "<style scoped>\n",
       "    .dataframe tbody tr th:only-of-type {\n",
       "        vertical-align: middle;\n",
       "    }\n",
       "\n",
       "    .dataframe tbody tr th {\n",
       "        vertical-align: top;\n",
       "    }\n",
       "\n",
       "    .dataframe thead th {\n",
       "        text-align: right;\n",
       "    }\n",
       "</style>\n",
       "<table border=\"1\" class=\"dataframe\">\n",
       "  <thead>\n",
       "    <tr style=\"text-align: right;\">\n",
       "      <th></th>\n",
       "      <th>battery_power</th>\n",
       "      <th>blue</th>\n",
       "      <th>clock_speed</th>\n",
       "      <th>dual_sim</th>\n",
       "      <th>fc</th>\n",
       "      <th>four_g</th>\n",
       "      <th>int_memory</th>\n",
       "      <th>m_dep</th>\n",
       "      <th>mobile_wt</th>\n",
       "      <th>n_cores</th>\n",
       "      <th>...</th>\n",
       "      <th>px_height</th>\n",
       "      <th>px_width</th>\n",
       "      <th>ram</th>\n",
       "      <th>sc_h</th>\n",
       "      <th>sc_w</th>\n",
       "      <th>talk_time</th>\n",
       "      <th>three_g</th>\n",
       "      <th>touch_screen</th>\n",
       "      <th>wifi</th>\n",
       "      <th>price_range</th>\n",
       "    </tr>\n",
       "  </thead>\n",
       "  <tbody>\n",
       "    <tr>\n",
       "      <th>0</th>\n",
       "      <td>842</td>\n",
       "      <td>0</td>\n",
       "      <td>2.2</td>\n",
       "      <td>0</td>\n",
       "      <td>1</td>\n",
       "      <td>0</td>\n",
       "      <td>7</td>\n",
       "      <td>0.6</td>\n",
       "      <td>188</td>\n",
       "      <td>2</td>\n",
       "      <td>...</td>\n",
       "      <td>20</td>\n",
       "      <td>756</td>\n",
       "      <td>2549</td>\n",
       "      <td>9</td>\n",
       "      <td>7</td>\n",
       "      <td>19</td>\n",
       "      <td>0</td>\n",
       "      <td>0</td>\n",
       "      <td>1</td>\n",
       "      <td>1</td>\n",
       "    </tr>\n",
       "    <tr>\n",
       "      <th>1</th>\n",
       "      <td>1021</td>\n",
       "      <td>1</td>\n",
       "      <td>0.5</td>\n",
       "      <td>1</td>\n",
       "      <td>0</td>\n",
       "      <td>1</td>\n",
       "      <td>53</td>\n",
       "      <td>0.7</td>\n",
       "      <td>136</td>\n",
       "      <td>3</td>\n",
       "      <td>...</td>\n",
       "      <td>905</td>\n",
       "      <td>1988</td>\n",
       "      <td>2631</td>\n",
       "      <td>17</td>\n",
       "      <td>3</td>\n",
       "      <td>7</td>\n",
       "      <td>1</td>\n",
       "      <td>1</td>\n",
       "      <td>0</td>\n",
       "      <td>2</td>\n",
       "    </tr>\n",
       "    <tr>\n",
       "      <th>2</th>\n",
       "      <td>563</td>\n",
       "      <td>1</td>\n",
       "      <td>0.5</td>\n",
       "      <td>1</td>\n",
       "      <td>2</td>\n",
       "      <td>1</td>\n",
       "      <td>41</td>\n",
       "      <td>0.9</td>\n",
       "      <td>145</td>\n",
       "      <td>5</td>\n",
       "      <td>...</td>\n",
       "      <td>1263</td>\n",
       "      <td>1716</td>\n",
       "      <td>2603</td>\n",
       "      <td>11</td>\n",
       "      <td>2</td>\n",
       "      <td>9</td>\n",
       "      <td>1</td>\n",
       "      <td>1</td>\n",
       "      <td>0</td>\n",
       "      <td>2</td>\n",
       "    </tr>\n",
       "    <tr>\n",
       "      <th>3</th>\n",
       "      <td>615</td>\n",
       "      <td>1</td>\n",
       "      <td>2.5</td>\n",
       "      <td>0</td>\n",
       "      <td>0</td>\n",
       "      <td>0</td>\n",
       "      <td>10</td>\n",
       "      <td>0.8</td>\n",
       "      <td>131</td>\n",
       "      <td>6</td>\n",
       "      <td>...</td>\n",
       "      <td>1216</td>\n",
       "      <td>1786</td>\n",
       "      <td>2769</td>\n",
       "      <td>16</td>\n",
       "      <td>8</td>\n",
       "      <td>11</td>\n",
       "      <td>1</td>\n",
       "      <td>0</td>\n",
       "      <td>0</td>\n",
       "      <td>2</td>\n",
       "    </tr>\n",
       "    <tr>\n",
       "      <th>4</th>\n",
       "      <td>1821</td>\n",
       "      <td>1</td>\n",
       "      <td>1.2</td>\n",
       "      <td>0</td>\n",
       "      <td>13</td>\n",
       "      <td>1</td>\n",
       "      <td>44</td>\n",
       "      <td>0.6</td>\n",
       "      <td>141</td>\n",
       "      <td>2</td>\n",
       "      <td>...</td>\n",
       "      <td>1208</td>\n",
       "      <td>1212</td>\n",
       "      <td>1411</td>\n",
       "      <td>8</td>\n",
       "      <td>2</td>\n",
       "      <td>15</td>\n",
       "      <td>1</td>\n",
       "      <td>1</td>\n",
       "      <td>0</td>\n",
       "      <td>1</td>\n",
       "    </tr>\n",
       "  </tbody>\n",
       "</table>\n",
       "<p>5 rows × 21 columns</p>\n",
       "</div>"
      ],
      "text/plain": [
       "   battery_power  blue  clock_speed  dual_sim  fc  four_g  int_memory  m_dep  \\\n",
       "0            842     0          2.2         0   1       0           7    0.6   \n",
       "1           1021     1          0.5         1   0       1          53    0.7   \n",
       "2            563     1          0.5         1   2       1          41    0.9   \n",
       "3            615     1          2.5         0   0       0          10    0.8   \n",
       "4           1821     1          1.2         0  13       1          44    0.6   \n",
       "\n",
       "   mobile_wt  n_cores  ...  px_height  px_width   ram  sc_h  sc_w  talk_time  \\\n",
       "0        188        2  ...         20       756  2549     9     7         19   \n",
       "1        136        3  ...        905      1988  2631    17     3          7   \n",
       "2        145        5  ...       1263      1716  2603    11     2          9   \n",
       "3        131        6  ...       1216      1786  2769    16     8         11   \n",
       "4        141        2  ...       1208      1212  1411     8     2         15   \n",
       "\n",
       "   three_g  touch_screen  wifi  price_range  \n",
       "0        0             0     1            1  \n",
       "1        1             1     0            2  \n",
       "2        1             1     0            2  \n",
       "3        1             0     0            2  \n",
       "4        1             1     0            1  \n",
       "\n",
       "[5 rows x 21 columns]"
      ]
     },
     "execution_count": 3,
     "metadata": {},
     "output_type": "execute_result"
    }
   ],
   "source": [
    "data.head()"
   ]
  },
  {
   "cell_type": "code",
   "execution_count": 4,
   "metadata": {
    "colab": {
     "base_uri": "https://localhost:8080/"
    },
    "executionInfo": {
     "elapsed": 92,
     "status": "ok",
     "timestamp": 1679414290963,
     "user": {
      "displayName": "Axnusic Edith",
      "userId": "07636372885580572742"
     },
     "user_tz": -345
    },
    "id": "uZvXZlEJrmp0",
    "outputId": "fc445c75-bf57-4a14-d5ad-ec4d29d22e19"
   },
   "outputs": [
    {
     "data": {
      "text/plain": [
       "(2000, 21)"
      ]
     },
     "execution_count": 4,
     "metadata": {},
     "output_type": "execute_result"
    }
   ],
   "source": [
    "data.shape"
   ]
  },
  {
   "cell_type": "markdown",
   "metadata": {
    "id": "_8ITJUHNr-Xj"
   },
   "source": [
    "seeing if there is any null in the data\n"
   ]
  },
  {
   "cell_type": "code",
   "execution_count": 5,
   "metadata": {
    "colab": {
     "base_uri": "https://localhost:8080/"
    },
    "executionInfo": {
     "elapsed": 90,
     "status": "ok",
     "timestamp": 1679414290964,
     "user": {
      "displayName": "Axnusic Edith",
      "userId": "07636372885580572742"
     },
     "user_tz": -345
    },
    "id": "1mNjuRGortEp",
    "outputId": "06ba8d01-a458-42f7-f33e-aedfbfea0935"
   },
   "outputs": [
    {
     "data": {
      "text/plain": [
       "battery_power    0\n",
       "blue             0\n",
       "clock_speed      0\n",
       "dual_sim         0\n",
       "fc               0\n",
       "four_g           0\n",
       "int_memory       0\n",
       "m_dep            0\n",
       "mobile_wt        0\n",
       "n_cores          0\n",
       "pc               0\n",
       "px_height        0\n",
       "px_width         0\n",
       "ram              0\n",
       "sc_h             0\n",
       "sc_w             0\n",
       "talk_time        0\n",
       "three_g          0\n",
       "touch_screen     0\n",
       "wifi             0\n",
       "price_range      0\n",
       "dtype: int64"
      ]
     },
     "execution_count": 5,
     "metadata": {},
     "output_type": "execute_result"
    }
   ],
   "source": [
    "data.isnull().sum()"
   ]
  },
  {
   "cell_type": "markdown",
   "metadata": {
    "id": "EvG0dU_Cs8Bg"
   },
   "source": [
    "What are the data types of the columns"
   ]
  },
  {
   "cell_type": "code",
   "execution_count": 6,
   "metadata": {
    "colab": {
     "base_uri": "https://localhost:8080/"
    },
    "executionInfo": {
     "elapsed": 88,
     "status": "ok",
     "timestamp": 1679414290965,
     "user": {
      "displayName": "Axnusic Edith",
      "userId": "07636372885580572742"
     },
     "user_tz": -345
    },
    "id": "FOuQA0PLsX2_",
    "outputId": "0ad78f0e-de2d-45a0-fbfa-eea2a0ad4a26"
   },
   "outputs": [
    {
     "data": {
      "text/plain": [
       "battery_power      int64\n",
       "blue               int64\n",
       "clock_speed      float64\n",
       "dual_sim           int64\n",
       "fc                 int64\n",
       "four_g             int64\n",
       "int_memory         int64\n",
       "m_dep            float64\n",
       "mobile_wt          int64\n",
       "n_cores            int64\n",
       "pc                 int64\n",
       "px_height          int64\n",
       "px_width           int64\n",
       "ram                int64\n",
       "sc_h               int64\n",
       "sc_w               int64\n",
       "talk_time          int64\n",
       "three_g            int64\n",
       "touch_screen       int64\n",
       "wifi               int64\n",
       "price_range        int64\n",
       "dtype: object"
      ]
     },
     "execution_count": 6,
     "metadata": {},
     "output_type": "execute_result"
    }
   ],
   "source": [
    "data.dtypes"
   ]
  },
  {
   "cell_type": "code",
   "execution_count": 7,
   "metadata": {
    "colab": {
     "base_uri": "https://localhost:8080/",
     "height": 708
    },
    "executionInfo": {
     "elapsed": 810,
     "status": "ok",
     "timestamp": 1679414291690,
     "user": {
      "displayName": "Axnusic Edith",
      "userId": "07636372885580572742"
     },
     "user_tz": -345
    },
    "id": "wdAcOeO0sbGO",
    "outputId": "7e3c35c3-d1a1-42e0-d950-9351ebf9e643"
   },
   "outputs": [
    {
     "data": {
      "text/html": [
       "<style type=\"text/css\">\n",
       "#T_2315f_row0_col0, #T_2315f_row1_col0, #T_2315f_row1_col1, #T_2315f_row1_col2, #T_2315f_row1_col3, #T_2315f_row1_col4, #T_2315f_row1_col5, #T_2315f_row1_col6, #T_2315f_row1_col7, #T_2315f_row2_col0, #T_2315f_row2_col1, #T_2315f_row2_col2, #T_2315f_row2_col3, #T_2315f_row2_col4, #T_2315f_row2_col5, #T_2315f_row2_col6, #T_2315f_row2_col7, #T_2315f_row3_col0, #T_2315f_row3_col1, #T_2315f_row3_col2, #T_2315f_row3_col3, #T_2315f_row3_col4, #T_2315f_row3_col5, #T_2315f_row3_col6, #T_2315f_row3_col7, #T_2315f_row4_col0, #T_2315f_row4_col1, #T_2315f_row4_col2, #T_2315f_row4_col3, #T_2315f_row4_col4, #T_2315f_row4_col5, #T_2315f_row4_col6, #T_2315f_row5_col0, #T_2315f_row5_col1, #T_2315f_row5_col2, #T_2315f_row5_col3, #T_2315f_row5_col4, #T_2315f_row5_col5, #T_2315f_row5_col6, #T_2315f_row5_col7, #T_2315f_row6_col0, #T_2315f_row7_col0, #T_2315f_row7_col1, #T_2315f_row7_col2, #T_2315f_row7_col3, #T_2315f_row7_col4, #T_2315f_row7_col5, #T_2315f_row7_col6, #T_2315f_row7_col7, #T_2315f_row8_col0, #T_2315f_row9_col0, #T_2315f_row9_col1, #T_2315f_row9_col2, #T_2315f_row9_col3, #T_2315f_row9_col4, #T_2315f_row9_col5, #T_2315f_row9_col6, #T_2315f_row9_col7, #T_2315f_row10_col0, #T_2315f_row10_col3, #T_2315f_row11_col0, #T_2315f_row11_col3, #T_2315f_row12_col0, #T_2315f_row13_col0, #T_2315f_row14_col0, #T_2315f_row14_col2, #T_2315f_row15_col0, #T_2315f_row15_col1, #T_2315f_row15_col2, #T_2315f_row15_col3, #T_2315f_row15_col4, #T_2315f_row15_col5, #T_2315f_row15_col6, #T_2315f_row16_col0, #T_2315f_row17_col0, #T_2315f_row17_col1, #T_2315f_row17_col2, #T_2315f_row17_col3, #T_2315f_row17_col4, #T_2315f_row17_col5, #T_2315f_row17_col6, #T_2315f_row17_col7, #T_2315f_row18_col0, #T_2315f_row18_col1, #T_2315f_row18_col2, #T_2315f_row18_col3, #T_2315f_row18_col4, #T_2315f_row18_col5, #T_2315f_row18_col6, #T_2315f_row18_col7, #T_2315f_row19_col0, #T_2315f_row19_col1, #T_2315f_row19_col2, #T_2315f_row19_col3, #T_2315f_row19_col4, #T_2315f_row19_col5, #T_2315f_row19_col6, #T_2315f_row19_col7, #T_2315f_row20_col0, #T_2315f_row20_col1, #T_2315f_row20_col2, #T_2315f_row20_col3, #T_2315f_row20_col4, #T_2315f_row20_col5, #T_2315f_row20_col6, #T_2315f_row20_col7 {\n",
       "  background-color: #f7fbff;\n",
       "  color: #000000;\n",
       "}\n",
       "#T_2315f_row0_col1 {\n",
       "  background-color: #4f9bcb;\n",
       "  color: #f1f1f1;\n",
       "}\n",
       "#T_2315f_row0_col2 {\n",
       "  background-color: #92c4de;\n",
       "  color: #000000;\n",
       "}\n",
       "#T_2315f_row0_col3, #T_2315f_row12_col3, #T_2315f_row13_col1, #T_2315f_row13_col2, #T_2315f_row13_col4, #T_2315f_row13_col5, #T_2315f_row13_col6, #T_2315f_row13_col7 {\n",
       "  background-color: #08306b;\n",
       "  color: #f1f1f1;\n",
       "}\n",
       "#T_2315f_row0_col4 {\n",
       "  background-color: #2d7dbb;\n",
       "  color: #f1f1f1;\n",
       "}\n",
       "#T_2315f_row0_col5 {\n",
       "  background-color: #539ecd;\n",
       "  color: #f1f1f1;\n",
       "}\n",
       "#T_2315f_row0_col6 {\n",
       "  background-color: #63a8d3;\n",
       "  color: #f1f1f1;\n",
       "}\n",
       "#T_2315f_row0_col7, #T_2315f_row12_col7 {\n",
       "  background-color: #6caed6;\n",
       "  color: #f1f1f1;\n",
       "}\n",
       "#T_2315f_row4_col7, #T_2315f_row6_col3, #T_2315f_row10_col1, #T_2315f_row10_col2, #T_2315f_row10_col4, #T_2315f_row10_col5, #T_2315f_row10_col6, #T_2315f_row10_col7, #T_2315f_row14_col1, #T_2315f_row14_col4, #T_2315f_row14_col5, #T_2315f_row14_col6, #T_2315f_row14_col7, #T_2315f_row15_col7, #T_2315f_row16_col1, #T_2315f_row16_col2, #T_2315f_row16_col3, #T_2315f_row16_col4, #T_2315f_row16_col5, #T_2315f_row16_col6, #T_2315f_row16_col7 {\n",
       "  background-color: #f6faff;\n",
       "  color: #000000;\n",
       "}\n",
       "#T_2315f_row6_col1, #T_2315f_row6_col4, #T_2315f_row6_col5, #T_2315f_row6_col6 {\n",
       "  background-color: #f5f9fe;\n",
       "  color: #000000;\n",
       "}\n",
       "#T_2315f_row6_col2, #T_2315f_row6_col7 {\n",
       "  background-color: #f4f9fe;\n",
       "  color: #000000;\n",
       "}\n",
       "#T_2315f_row8_col1, #T_2315f_row8_col5 {\n",
       "  background-color: #eaf3fb;\n",
       "  color: #000000;\n",
       "}\n",
       "#T_2315f_row8_col2 {\n",
       "  background-color: #f1f7fd;\n",
       "  color: #000000;\n",
       "}\n",
       "#T_2315f_row8_col3 {\n",
       "  background-color: #d8e7f5;\n",
       "  color: #000000;\n",
       "}\n",
       "#T_2315f_row8_col4 {\n",
       "  background-color: #e5eff9;\n",
       "  color: #000000;\n",
       "}\n",
       "#T_2315f_row8_col6 {\n",
       "  background-color: #ecf4fb;\n",
       "  color: #000000;\n",
       "}\n",
       "#T_2315f_row8_col7 {\n",
       "  background-color: #eef5fc;\n",
       "  color: #000000;\n",
       "}\n",
       "#T_2315f_row11_col1 {\n",
       "  background-color: #b5d4e9;\n",
       "  color: #000000;\n",
       "}\n",
       "#T_2315f_row11_col2 {\n",
       "  background-color: #91c3de;\n",
       "  color: #000000;\n",
       "}\n",
       "#T_2315f_row11_col4 {\n",
       "  background-color: #caddf0;\n",
       "  color: #000000;\n",
       "}\n",
       "#T_2315f_row11_col5 {\n",
       "  background-color: #c2d9ee;\n",
       "  color: #000000;\n",
       "}\n",
       "#T_2315f_row11_col6 {\n",
       "  background-color: #b3d3e8;\n",
       "  color: #000000;\n",
       "}\n",
       "#T_2315f_row11_col7 {\n",
       "  background-color: #6fb0d7;\n",
       "  color: #f1f1f1;\n",
       "}\n",
       "#T_2315f_row12_col1 {\n",
       "  background-color: #4e9acb;\n",
       "  color: #f1f1f1;\n",
       "}\n",
       "#T_2315f_row12_col2 {\n",
       "  background-color: #95c5df;\n",
       "  color: #000000;\n",
       "}\n",
       "#T_2315f_row12_col4 {\n",
       "  background-color: #2777b8;\n",
       "  color: #f1f1f1;\n",
       "}\n",
       "#T_2315f_row12_col5 {\n",
       "  background-color: #519ccc;\n",
       "  color: #f1f1f1;\n",
       "}\n",
       "#T_2315f_row12_col6 {\n",
       "  background-color: #60a7d2;\n",
       "  color: #f1f1f1;\n",
       "}\n",
       "#T_2315f_row13_col3 {\n",
       "  background-color: #68acd5;\n",
       "  color: #f1f1f1;\n",
       "}\n",
       "#T_2315f_row14_col3 {\n",
       "  background-color: #f5fafe;\n",
       "  color: #000000;\n",
       "}\n",
       "</style>\n",
       "<table id=\"T_2315f\">\n",
       "  <thead>\n",
       "    <tr>\n",
       "      <th class=\"blank level0\" >&nbsp;</th>\n",
       "      <th id=\"T_2315f_level0_col0\" class=\"col_heading level0 col0\" >count</th>\n",
       "      <th id=\"T_2315f_level0_col1\" class=\"col_heading level0 col1\" >mean</th>\n",
       "      <th id=\"T_2315f_level0_col2\" class=\"col_heading level0 col2\" >std</th>\n",
       "      <th id=\"T_2315f_level0_col3\" class=\"col_heading level0 col3\" >min</th>\n",
       "      <th id=\"T_2315f_level0_col4\" class=\"col_heading level0 col4\" >25%</th>\n",
       "      <th id=\"T_2315f_level0_col5\" class=\"col_heading level0 col5\" >50%</th>\n",
       "      <th id=\"T_2315f_level0_col6\" class=\"col_heading level0 col6\" >75%</th>\n",
       "      <th id=\"T_2315f_level0_col7\" class=\"col_heading level0 col7\" >max</th>\n",
       "    </tr>\n",
       "  </thead>\n",
       "  <tbody>\n",
       "    <tr>\n",
       "      <th id=\"T_2315f_level0_row0\" class=\"row_heading level0 row0\" >battery_power</th>\n",
       "      <td id=\"T_2315f_row0_col0\" class=\"data row0 col0\" >2000.000000</td>\n",
       "      <td id=\"T_2315f_row0_col1\" class=\"data row0 col1\" >1238.518500</td>\n",
       "      <td id=\"T_2315f_row0_col2\" class=\"data row0 col2\" >439.418206</td>\n",
       "      <td id=\"T_2315f_row0_col3\" class=\"data row0 col3\" >501.000000</td>\n",
       "      <td id=\"T_2315f_row0_col4\" class=\"data row0 col4\" >851.750000</td>\n",
       "      <td id=\"T_2315f_row0_col5\" class=\"data row0 col5\" >1226.000000</td>\n",
       "      <td id=\"T_2315f_row0_col6\" class=\"data row0 col6\" >1615.250000</td>\n",
       "      <td id=\"T_2315f_row0_col7\" class=\"data row0 col7\" >1998.000000</td>\n",
       "    </tr>\n",
       "    <tr>\n",
       "      <th id=\"T_2315f_level0_row1\" class=\"row_heading level0 row1\" >blue</th>\n",
       "      <td id=\"T_2315f_row1_col0\" class=\"data row1 col0\" >2000.000000</td>\n",
       "      <td id=\"T_2315f_row1_col1\" class=\"data row1 col1\" >0.495000</td>\n",
       "      <td id=\"T_2315f_row1_col2\" class=\"data row1 col2\" >0.500100</td>\n",
       "      <td id=\"T_2315f_row1_col3\" class=\"data row1 col3\" >0.000000</td>\n",
       "      <td id=\"T_2315f_row1_col4\" class=\"data row1 col4\" >0.000000</td>\n",
       "      <td id=\"T_2315f_row1_col5\" class=\"data row1 col5\" >0.000000</td>\n",
       "      <td id=\"T_2315f_row1_col6\" class=\"data row1 col6\" >1.000000</td>\n",
       "      <td id=\"T_2315f_row1_col7\" class=\"data row1 col7\" >1.000000</td>\n",
       "    </tr>\n",
       "    <tr>\n",
       "      <th id=\"T_2315f_level0_row2\" class=\"row_heading level0 row2\" >clock_speed</th>\n",
       "      <td id=\"T_2315f_row2_col0\" class=\"data row2 col0\" >2000.000000</td>\n",
       "      <td id=\"T_2315f_row2_col1\" class=\"data row2 col1\" >1.522250</td>\n",
       "      <td id=\"T_2315f_row2_col2\" class=\"data row2 col2\" >0.816004</td>\n",
       "      <td id=\"T_2315f_row2_col3\" class=\"data row2 col3\" >0.500000</td>\n",
       "      <td id=\"T_2315f_row2_col4\" class=\"data row2 col4\" >0.700000</td>\n",
       "      <td id=\"T_2315f_row2_col5\" class=\"data row2 col5\" >1.500000</td>\n",
       "      <td id=\"T_2315f_row2_col6\" class=\"data row2 col6\" >2.200000</td>\n",
       "      <td id=\"T_2315f_row2_col7\" class=\"data row2 col7\" >3.000000</td>\n",
       "    </tr>\n",
       "    <tr>\n",
       "      <th id=\"T_2315f_level0_row3\" class=\"row_heading level0 row3\" >dual_sim</th>\n",
       "      <td id=\"T_2315f_row3_col0\" class=\"data row3 col0\" >2000.000000</td>\n",
       "      <td id=\"T_2315f_row3_col1\" class=\"data row3 col1\" >0.509500</td>\n",
       "      <td id=\"T_2315f_row3_col2\" class=\"data row3 col2\" >0.500035</td>\n",
       "      <td id=\"T_2315f_row3_col3\" class=\"data row3 col3\" >0.000000</td>\n",
       "      <td id=\"T_2315f_row3_col4\" class=\"data row3 col4\" >0.000000</td>\n",
       "      <td id=\"T_2315f_row3_col5\" class=\"data row3 col5\" >1.000000</td>\n",
       "      <td id=\"T_2315f_row3_col6\" class=\"data row3 col6\" >1.000000</td>\n",
       "      <td id=\"T_2315f_row3_col7\" class=\"data row3 col7\" >1.000000</td>\n",
       "    </tr>\n",
       "    <tr>\n",
       "      <th id=\"T_2315f_level0_row4\" class=\"row_heading level0 row4\" >fc</th>\n",
       "      <td id=\"T_2315f_row4_col0\" class=\"data row4 col0\" >2000.000000</td>\n",
       "      <td id=\"T_2315f_row4_col1\" class=\"data row4 col1\" >4.309500</td>\n",
       "      <td id=\"T_2315f_row4_col2\" class=\"data row4 col2\" >4.341444</td>\n",
       "      <td id=\"T_2315f_row4_col3\" class=\"data row4 col3\" >0.000000</td>\n",
       "      <td id=\"T_2315f_row4_col4\" class=\"data row4 col4\" >1.000000</td>\n",
       "      <td id=\"T_2315f_row4_col5\" class=\"data row4 col5\" >3.000000</td>\n",
       "      <td id=\"T_2315f_row4_col6\" class=\"data row4 col6\" >7.000000</td>\n",
       "      <td id=\"T_2315f_row4_col7\" class=\"data row4 col7\" >19.000000</td>\n",
       "    </tr>\n",
       "    <tr>\n",
       "      <th id=\"T_2315f_level0_row5\" class=\"row_heading level0 row5\" >four_g</th>\n",
       "      <td id=\"T_2315f_row5_col0\" class=\"data row5 col0\" >2000.000000</td>\n",
       "      <td id=\"T_2315f_row5_col1\" class=\"data row5 col1\" >0.521500</td>\n",
       "      <td id=\"T_2315f_row5_col2\" class=\"data row5 col2\" >0.499662</td>\n",
       "      <td id=\"T_2315f_row5_col3\" class=\"data row5 col3\" >0.000000</td>\n",
       "      <td id=\"T_2315f_row5_col4\" class=\"data row5 col4\" >0.000000</td>\n",
       "      <td id=\"T_2315f_row5_col5\" class=\"data row5 col5\" >1.000000</td>\n",
       "      <td id=\"T_2315f_row5_col6\" class=\"data row5 col6\" >1.000000</td>\n",
       "      <td id=\"T_2315f_row5_col7\" class=\"data row5 col7\" >1.000000</td>\n",
       "    </tr>\n",
       "    <tr>\n",
       "      <th id=\"T_2315f_level0_row6\" class=\"row_heading level0 row6\" >int_memory</th>\n",
       "      <td id=\"T_2315f_row6_col0\" class=\"data row6 col0\" >2000.000000</td>\n",
       "      <td id=\"T_2315f_row6_col1\" class=\"data row6 col1\" >32.046500</td>\n",
       "      <td id=\"T_2315f_row6_col2\" class=\"data row6 col2\" >18.145715</td>\n",
       "      <td id=\"T_2315f_row6_col3\" class=\"data row6 col3\" >2.000000</td>\n",
       "      <td id=\"T_2315f_row6_col4\" class=\"data row6 col4\" >16.000000</td>\n",
       "      <td id=\"T_2315f_row6_col5\" class=\"data row6 col5\" >32.000000</td>\n",
       "      <td id=\"T_2315f_row6_col6\" class=\"data row6 col6\" >48.000000</td>\n",
       "      <td id=\"T_2315f_row6_col7\" class=\"data row6 col7\" >64.000000</td>\n",
       "    </tr>\n",
       "    <tr>\n",
       "      <th id=\"T_2315f_level0_row7\" class=\"row_heading level0 row7\" >m_dep</th>\n",
       "      <td id=\"T_2315f_row7_col0\" class=\"data row7 col0\" >2000.000000</td>\n",
       "      <td id=\"T_2315f_row7_col1\" class=\"data row7 col1\" >0.501750</td>\n",
       "      <td id=\"T_2315f_row7_col2\" class=\"data row7 col2\" >0.288416</td>\n",
       "      <td id=\"T_2315f_row7_col3\" class=\"data row7 col3\" >0.100000</td>\n",
       "      <td id=\"T_2315f_row7_col4\" class=\"data row7 col4\" >0.200000</td>\n",
       "      <td id=\"T_2315f_row7_col5\" class=\"data row7 col5\" >0.500000</td>\n",
       "      <td id=\"T_2315f_row7_col6\" class=\"data row7 col6\" >0.800000</td>\n",
       "      <td id=\"T_2315f_row7_col7\" class=\"data row7 col7\" >1.000000</td>\n",
       "    </tr>\n",
       "    <tr>\n",
       "      <th id=\"T_2315f_level0_row8\" class=\"row_heading level0 row8\" >mobile_wt</th>\n",
       "      <td id=\"T_2315f_row8_col0\" class=\"data row8 col0\" >2000.000000</td>\n",
       "      <td id=\"T_2315f_row8_col1\" class=\"data row8 col1\" >140.249000</td>\n",
       "      <td id=\"T_2315f_row8_col2\" class=\"data row8 col2\" >35.399655</td>\n",
       "      <td id=\"T_2315f_row8_col3\" class=\"data row8 col3\" >80.000000</td>\n",
       "      <td id=\"T_2315f_row8_col4\" class=\"data row8 col4\" >109.000000</td>\n",
       "      <td id=\"T_2315f_row8_col5\" class=\"data row8 col5\" >141.000000</td>\n",
       "      <td id=\"T_2315f_row8_col6\" class=\"data row8 col6\" >170.000000</td>\n",
       "      <td id=\"T_2315f_row8_col7\" class=\"data row8 col7\" >200.000000</td>\n",
       "    </tr>\n",
       "    <tr>\n",
       "      <th id=\"T_2315f_level0_row9\" class=\"row_heading level0 row9\" >n_cores</th>\n",
       "      <td id=\"T_2315f_row9_col0\" class=\"data row9 col0\" >2000.000000</td>\n",
       "      <td id=\"T_2315f_row9_col1\" class=\"data row9 col1\" >4.520500</td>\n",
       "      <td id=\"T_2315f_row9_col2\" class=\"data row9 col2\" >2.287837</td>\n",
       "      <td id=\"T_2315f_row9_col3\" class=\"data row9 col3\" >1.000000</td>\n",
       "      <td id=\"T_2315f_row9_col4\" class=\"data row9 col4\" >3.000000</td>\n",
       "      <td id=\"T_2315f_row9_col5\" class=\"data row9 col5\" >4.000000</td>\n",
       "      <td id=\"T_2315f_row9_col6\" class=\"data row9 col6\" >7.000000</td>\n",
       "      <td id=\"T_2315f_row9_col7\" class=\"data row9 col7\" >8.000000</td>\n",
       "    </tr>\n",
       "    <tr>\n",
       "      <th id=\"T_2315f_level0_row10\" class=\"row_heading level0 row10\" >pc</th>\n",
       "      <td id=\"T_2315f_row10_col0\" class=\"data row10 col0\" >2000.000000</td>\n",
       "      <td id=\"T_2315f_row10_col1\" class=\"data row10 col1\" >9.916500</td>\n",
       "      <td id=\"T_2315f_row10_col2\" class=\"data row10 col2\" >6.064315</td>\n",
       "      <td id=\"T_2315f_row10_col3\" class=\"data row10 col3\" >0.000000</td>\n",
       "      <td id=\"T_2315f_row10_col4\" class=\"data row10 col4\" >5.000000</td>\n",
       "      <td id=\"T_2315f_row10_col5\" class=\"data row10 col5\" >10.000000</td>\n",
       "      <td id=\"T_2315f_row10_col6\" class=\"data row10 col6\" >15.000000</td>\n",
       "      <td id=\"T_2315f_row10_col7\" class=\"data row10 col7\" >20.000000</td>\n",
       "    </tr>\n",
       "    <tr>\n",
       "      <th id=\"T_2315f_level0_row11\" class=\"row_heading level0 row11\" >px_height</th>\n",
       "      <td id=\"T_2315f_row11_col0\" class=\"data row11 col0\" >2000.000000</td>\n",
       "      <td id=\"T_2315f_row11_col1\" class=\"data row11 col1\" >645.108000</td>\n",
       "      <td id=\"T_2315f_row11_col2\" class=\"data row11 col2\" >443.780811</td>\n",
       "      <td id=\"T_2315f_row11_col3\" class=\"data row11 col3\" >0.000000</td>\n",
       "      <td id=\"T_2315f_row11_col4\" class=\"data row11 col4\" >282.750000</td>\n",
       "      <td id=\"T_2315f_row11_col5\" class=\"data row11 col5\" >564.000000</td>\n",
       "      <td id=\"T_2315f_row11_col6\" class=\"data row11 col6\" >947.250000</td>\n",
       "      <td id=\"T_2315f_row11_col7\" class=\"data row11 col7\" >1960.000000</td>\n",
       "    </tr>\n",
       "    <tr>\n",
       "      <th id=\"T_2315f_level0_row12\" class=\"row_heading level0 row12\" >px_width</th>\n",
       "      <td id=\"T_2315f_row12_col0\" class=\"data row12 col0\" >2000.000000</td>\n",
       "      <td id=\"T_2315f_row12_col1\" class=\"data row12 col1\" >1251.515500</td>\n",
       "      <td id=\"T_2315f_row12_col2\" class=\"data row12 col2\" >432.199447</td>\n",
       "      <td id=\"T_2315f_row12_col3\" class=\"data row12 col3\" >500.000000</td>\n",
       "      <td id=\"T_2315f_row12_col4\" class=\"data row12 col4\" >874.750000</td>\n",
       "      <td id=\"T_2315f_row12_col5\" class=\"data row12 col5\" >1247.000000</td>\n",
       "      <td id=\"T_2315f_row12_col6\" class=\"data row12 col6\" >1633.000000</td>\n",
       "      <td id=\"T_2315f_row12_col7\" class=\"data row12 col7\" >1998.000000</td>\n",
       "    </tr>\n",
       "    <tr>\n",
       "      <th id=\"T_2315f_level0_row13\" class=\"row_heading level0 row13\" >ram</th>\n",
       "      <td id=\"T_2315f_row13_col0\" class=\"data row13 col0\" >2000.000000</td>\n",
       "      <td id=\"T_2315f_row13_col1\" class=\"data row13 col1\" >2124.213000</td>\n",
       "      <td id=\"T_2315f_row13_col2\" class=\"data row13 col2\" >1084.732044</td>\n",
       "      <td id=\"T_2315f_row13_col3\" class=\"data row13 col3\" >256.000000</td>\n",
       "      <td id=\"T_2315f_row13_col4\" class=\"data row13 col4\" >1207.500000</td>\n",
       "      <td id=\"T_2315f_row13_col5\" class=\"data row13 col5\" >2146.500000</td>\n",
       "      <td id=\"T_2315f_row13_col6\" class=\"data row13 col6\" >3064.500000</td>\n",
       "      <td id=\"T_2315f_row13_col7\" class=\"data row13 col7\" >3998.000000</td>\n",
       "    </tr>\n",
       "    <tr>\n",
       "      <th id=\"T_2315f_level0_row14\" class=\"row_heading level0 row14\" >sc_h</th>\n",
       "      <td id=\"T_2315f_row14_col0\" class=\"data row14 col0\" >2000.000000</td>\n",
       "      <td id=\"T_2315f_row14_col1\" class=\"data row14 col1\" >12.306500</td>\n",
       "      <td id=\"T_2315f_row14_col2\" class=\"data row14 col2\" >4.213245</td>\n",
       "      <td id=\"T_2315f_row14_col3\" class=\"data row14 col3\" >5.000000</td>\n",
       "      <td id=\"T_2315f_row14_col4\" class=\"data row14 col4\" >9.000000</td>\n",
       "      <td id=\"T_2315f_row14_col5\" class=\"data row14 col5\" >12.000000</td>\n",
       "      <td id=\"T_2315f_row14_col6\" class=\"data row14 col6\" >16.000000</td>\n",
       "      <td id=\"T_2315f_row14_col7\" class=\"data row14 col7\" >19.000000</td>\n",
       "    </tr>\n",
       "    <tr>\n",
       "      <th id=\"T_2315f_level0_row15\" class=\"row_heading level0 row15\" >sc_w</th>\n",
       "      <td id=\"T_2315f_row15_col0\" class=\"data row15 col0\" >2000.000000</td>\n",
       "      <td id=\"T_2315f_row15_col1\" class=\"data row15 col1\" >5.767000</td>\n",
       "      <td id=\"T_2315f_row15_col2\" class=\"data row15 col2\" >4.356398</td>\n",
       "      <td id=\"T_2315f_row15_col3\" class=\"data row15 col3\" >0.000000</td>\n",
       "      <td id=\"T_2315f_row15_col4\" class=\"data row15 col4\" >2.000000</td>\n",
       "      <td id=\"T_2315f_row15_col5\" class=\"data row15 col5\" >5.000000</td>\n",
       "      <td id=\"T_2315f_row15_col6\" class=\"data row15 col6\" >9.000000</td>\n",
       "      <td id=\"T_2315f_row15_col7\" class=\"data row15 col7\" >18.000000</td>\n",
       "    </tr>\n",
       "    <tr>\n",
       "      <th id=\"T_2315f_level0_row16\" class=\"row_heading level0 row16\" >talk_time</th>\n",
       "      <td id=\"T_2315f_row16_col0\" class=\"data row16 col0\" >2000.000000</td>\n",
       "      <td id=\"T_2315f_row16_col1\" class=\"data row16 col1\" >11.011000</td>\n",
       "      <td id=\"T_2315f_row16_col2\" class=\"data row16 col2\" >5.463955</td>\n",
       "      <td id=\"T_2315f_row16_col3\" class=\"data row16 col3\" >2.000000</td>\n",
       "      <td id=\"T_2315f_row16_col4\" class=\"data row16 col4\" >6.000000</td>\n",
       "      <td id=\"T_2315f_row16_col5\" class=\"data row16 col5\" >11.000000</td>\n",
       "      <td id=\"T_2315f_row16_col6\" class=\"data row16 col6\" >16.000000</td>\n",
       "      <td id=\"T_2315f_row16_col7\" class=\"data row16 col7\" >20.000000</td>\n",
       "    </tr>\n",
       "    <tr>\n",
       "      <th id=\"T_2315f_level0_row17\" class=\"row_heading level0 row17\" >three_g</th>\n",
       "      <td id=\"T_2315f_row17_col0\" class=\"data row17 col0\" >2000.000000</td>\n",
       "      <td id=\"T_2315f_row17_col1\" class=\"data row17 col1\" >0.761500</td>\n",
       "      <td id=\"T_2315f_row17_col2\" class=\"data row17 col2\" >0.426273</td>\n",
       "      <td id=\"T_2315f_row17_col3\" class=\"data row17 col3\" >0.000000</td>\n",
       "      <td id=\"T_2315f_row17_col4\" class=\"data row17 col4\" >1.000000</td>\n",
       "      <td id=\"T_2315f_row17_col5\" class=\"data row17 col5\" >1.000000</td>\n",
       "      <td id=\"T_2315f_row17_col6\" class=\"data row17 col6\" >1.000000</td>\n",
       "      <td id=\"T_2315f_row17_col7\" class=\"data row17 col7\" >1.000000</td>\n",
       "    </tr>\n",
       "    <tr>\n",
       "      <th id=\"T_2315f_level0_row18\" class=\"row_heading level0 row18\" >touch_screen</th>\n",
       "      <td id=\"T_2315f_row18_col0\" class=\"data row18 col0\" >2000.000000</td>\n",
       "      <td id=\"T_2315f_row18_col1\" class=\"data row18 col1\" >0.503000</td>\n",
       "      <td id=\"T_2315f_row18_col2\" class=\"data row18 col2\" >0.500116</td>\n",
       "      <td id=\"T_2315f_row18_col3\" class=\"data row18 col3\" >0.000000</td>\n",
       "      <td id=\"T_2315f_row18_col4\" class=\"data row18 col4\" >0.000000</td>\n",
       "      <td id=\"T_2315f_row18_col5\" class=\"data row18 col5\" >1.000000</td>\n",
       "      <td id=\"T_2315f_row18_col6\" class=\"data row18 col6\" >1.000000</td>\n",
       "      <td id=\"T_2315f_row18_col7\" class=\"data row18 col7\" >1.000000</td>\n",
       "    </tr>\n",
       "    <tr>\n",
       "      <th id=\"T_2315f_level0_row19\" class=\"row_heading level0 row19\" >wifi</th>\n",
       "      <td id=\"T_2315f_row19_col0\" class=\"data row19 col0\" >2000.000000</td>\n",
       "      <td id=\"T_2315f_row19_col1\" class=\"data row19 col1\" >0.507000</td>\n",
       "      <td id=\"T_2315f_row19_col2\" class=\"data row19 col2\" >0.500076</td>\n",
       "      <td id=\"T_2315f_row19_col3\" class=\"data row19 col3\" >0.000000</td>\n",
       "      <td id=\"T_2315f_row19_col4\" class=\"data row19 col4\" >0.000000</td>\n",
       "      <td id=\"T_2315f_row19_col5\" class=\"data row19 col5\" >1.000000</td>\n",
       "      <td id=\"T_2315f_row19_col6\" class=\"data row19 col6\" >1.000000</td>\n",
       "      <td id=\"T_2315f_row19_col7\" class=\"data row19 col7\" >1.000000</td>\n",
       "    </tr>\n",
       "    <tr>\n",
       "      <th id=\"T_2315f_level0_row20\" class=\"row_heading level0 row20\" >price_range</th>\n",
       "      <td id=\"T_2315f_row20_col0\" class=\"data row20 col0\" >2000.000000</td>\n",
       "      <td id=\"T_2315f_row20_col1\" class=\"data row20 col1\" >1.500000</td>\n",
       "      <td id=\"T_2315f_row20_col2\" class=\"data row20 col2\" >1.118314</td>\n",
       "      <td id=\"T_2315f_row20_col3\" class=\"data row20 col3\" >0.000000</td>\n",
       "      <td id=\"T_2315f_row20_col4\" class=\"data row20 col4\" >0.750000</td>\n",
       "      <td id=\"T_2315f_row20_col5\" class=\"data row20 col5\" >1.500000</td>\n",
       "      <td id=\"T_2315f_row20_col6\" class=\"data row20 col6\" >2.250000</td>\n",
       "      <td id=\"T_2315f_row20_col7\" class=\"data row20 col7\" >3.000000</td>\n",
       "    </tr>\n",
       "  </tbody>\n",
       "</table>\n"
      ],
      "text/plain": [
       "<pandas.io.formats.style.Styler at 0x1a85a080a50>"
      ]
     },
     "execution_count": 7,
     "metadata": {},
     "output_type": "execute_result"
    }
   ],
   "source": [
    "data.describe().T.style.background_gradient(cmap = \"Blues\")"
   ]
  },
  {
   "cell_type": "code",
   "execution_count": 8,
   "metadata": {
    "colab": {
     "base_uri": "https://localhost:8080/"
    },
    "executionInfo": {
     "elapsed": 38,
     "status": "ok",
     "timestamp": 1679414291690,
     "user": {
      "displayName": "Axnusic Edith",
      "userId": "07636372885580572742"
     },
     "user_tz": -345
    },
    "id": "9Vezft42tb2y",
    "outputId": "1d7a96ad-2415-4093-b61e-8ddc1fb620eb"
   },
   "outputs": [
    {
     "data": {
      "text/plain": [
       "0       0\n",
       "1       1\n",
       "2       1\n",
       "3       1\n",
       "4       1\n",
       "       ..\n",
       "1995    1\n",
       "1996    1\n",
       "1997    0\n",
       "1998    0\n",
       "1999    1\n",
       "Name: blue, Length: 2000, dtype: int64"
      ]
     },
     "execution_count": 8,
     "metadata": {},
     "output_type": "execute_result"
    }
   ],
   "source": [
    "data['blue']"
   ]
  },
  {
   "cell_type": "code",
   "execution_count": 9,
   "metadata": {
    "id": "RYL-it65vQvm"
   },
   "outputs": [],
   "source": [
    "data['blue'] = data['blue'].astype(object)"
   ]
  },
  {
   "cell_type": "code",
   "execution_count": 10,
   "metadata": {
    "colab": {
     "base_uri": "https://localhost:8080/",
     "height": 696
    },
    "executionInfo": {
     "elapsed": 36,
     "status": "ok",
     "timestamp": 1679414291691,
     "user": {
      "displayName": "Axnusic Edith",
      "userId": "07636372885580572742"
     },
     "user_tz": -345
    },
    "id": "2ogwa9nSv7zG",
    "outputId": "e3c179cb-f28c-49d8-ceef-1bd6f2b6db4b"
   },
   "outputs": [
    {
     "name": "stderr",
     "output_type": "stream",
     "text": [
      "C:\\Users\\sharm\\AppData\\Local\\Temp\\ipykernel_704\\746379743.py:1: FutureWarning: The default value of numeric_only in DataFrame.corr is deprecated. In a future version, it will default to False. Select only valid columns or specify the value of numeric_only to silence this warning.\n",
      "  data.corr().style.background_gradient(cmap = \"Blues\")\n"
     ]
    },
    {
     "data": {
      "text/html": [
       "<style type=\"text/css\">\n",
       "#T_896e3_row0_col0, #T_896e3_row1_col1, #T_896e3_row2_col2, #T_896e3_row3_col3, #T_896e3_row4_col4, #T_896e3_row5_col5, #T_896e3_row6_col6, #T_896e3_row7_col7, #T_896e3_row8_col8, #T_896e3_row9_col9, #T_896e3_row10_col10, #T_896e3_row11_col11, #T_896e3_row12_col12, #T_896e3_row13_col13, #T_896e3_row14_col14, #T_896e3_row15_col15, #T_896e3_row16_col16, #T_896e3_row17_col17, #T_896e3_row18_col18, #T_896e3_row19_col19 {\n",
       "  background-color: #08306b;\n",
       "  color: #f1f1f1;\n",
       "}\n",
       "#T_896e3_row0_col1, #T_896e3_row0_col16, #T_896e3_row3_col7, #T_896e3_row4_col0, #T_896e3_row6_col9, #T_896e3_row6_col10, #T_896e3_row7_col1, #T_896e3_row8_col15, #T_896e3_row9_col12, #T_896e3_row9_col15, #T_896e3_row11_col14, #T_896e3_row11_col18, #T_896e3_row12_col14, #T_896e3_row12_col15, #T_896e3_row13_col16, #T_896e3_row17_col16, #T_896e3_row18_col13, #T_896e3_row18_col14, #T_896e3_row19_col2, #T_896e3_row19_col13 {\n",
       "  background-color: #ecf4fb;\n",
       "  color: #000000;\n",
       "}\n",
       "#T_896e3_row0_col2, #T_896e3_row0_col8, #T_896e3_row0_col11, #T_896e3_row0_col13, #T_896e3_row0_col14, #T_896e3_row1_col4, #T_896e3_row1_col11, #T_896e3_row1_col16, #T_896e3_row2_col0, #T_896e3_row2_col3, #T_896e3_row4_col1, #T_896e3_row4_col8, #T_896e3_row4_col15, #T_896e3_row5_col3, #T_896e3_row5_col7, #T_896e3_row5_col8, #T_896e3_row5_col9, #T_896e3_row5_col11, #T_896e3_row5_col17, #T_896e3_row6_col18, #T_896e3_row7_col5, #T_896e3_row7_col13, #T_896e3_row7_col14, #T_896e3_row7_col19, #T_896e3_row9_col5, #T_896e3_row9_col14, #T_896e3_row12_col17, #T_896e3_row13_col6, #T_896e3_row13_col7, #T_896e3_row15_col2, #T_896e3_row15_col4, #T_896e3_row15_col14, #T_896e3_row15_col16, #T_896e3_row15_col18, #T_896e3_row16_col1, #T_896e3_row16_col10, #T_896e3_row16_col15, #T_896e3_row17_col12, #T_896e3_row17_col19, #T_896e3_row18_col6, #T_896e3_row19_col7, #T_896e3_row19_col17 {\n",
       "  background-color: #f7fbff;\n",
       "  color: #000000;\n",
       "}\n",
       "#T_896e3_row0_col3, #T_896e3_row0_col4, #T_896e3_row0_col6, #T_896e3_row4_col13, #T_896e3_row4_col14, #T_896e3_row5_col12, #T_896e3_row6_col15, #T_896e3_row9_col19, #T_896e3_row12_col9, #T_896e3_row12_col16, #T_896e3_row17_col4, #T_896e3_row17_col15, #T_896e3_row18_col2, #T_896e3_row19_col4, #T_896e3_row19_col14 {\n",
       "  background-color: #ebf3fb;\n",
       "  color: #000000;\n",
       "}\n",
       "#T_896e3_row0_col5, #T_896e3_row0_col12, #T_896e3_row1_col3, #T_896e3_row2_col16, #T_896e3_row3_col4, #T_896e3_row6_col1, #T_896e3_row6_col19, #T_896e3_row7_col4, #T_896e3_row7_col10, #T_896e3_row7_col18, #T_896e3_row8_col9, #T_896e3_row8_col16, #T_896e3_row9_col8, #T_896e3_row10_col1, #T_896e3_row11_col17, #T_896e3_row12_col7, #T_896e3_row13_col2, #T_896e3_row13_col8, #T_896e3_row13_col11, #T_896e3_row13_col15, #T_896e3_row15_col5, #T_896e3_row16_col3, #T_896e3_row16_col9, #T_896e3_row17_col0, #T_896e3_row18_col4, #T_896e3_row19_col6 {\n",
       "  background-color: #f2f7fd;\n",
       "  color: #000000;\n",
       "}\n",
       "#T_896e3_row0_col7, #T_896e3_row1_col12, #T_896e3_row1_col15, #T_896e3_row5_col6, #T_896e3_row5_col14, #T_896e3_row6_col11, #T_896e3_row6_col16, #T_896e3_row7_col2, #T_896e3_row8_col11, #T_896e3_row8_col12, #T_896e3_row8_col13, #T_896e3_row8_col19, #T_896e3_row9_col18, #T_896e3_row10_col7, #T_896e3_row10_col15, #T_896e3_row11_col0, #T_896e3_row11_col7, #T_896e3_row11_col12, #T_896e3_row12_col8, #T_896e3_row15_col1, #T_896e3_row16_col7, #T_896e3_row16_col18, #T_896e3_row18_col0, #T_896e3_row18_col7, #T_896e3_row19_col8 {\n",
       "  background-color: #f1f7fd;\n",
       "  color: #000000;\n",
       "}\n",
       "#T_896e3_row0_col9, #T_896e3_row10_col14, #T_896e3_row12_col5, #T_896e3_row14_col12, #T_896e3_row14_col18, #T_896e3_row17_col1, #T_896e3_row19_col9, #T_896e3_row19_col15 {\n",
       "  background-color: #eaf3fb;\n",
       "  color: #000000;\n",
       "}\n",
       "#T_896e3_row0_col10, #T_896e3_row1_col7, #T_896e3_row1_col17, #T_896e3_row2_col1, #T_896e3_row2_col4, #T_896e3_row2_col18, #T_896e3_row2_col19, #T_896e3_row3_col1, #T_896e3_row3_col12, #T_896e3_row3_col16, #T_896e3_row3_col18, #T_896e3_row4_col2, #T_896e3_row4_col17, #T_896e3_row4_col19, #T_896e3_row5_col1, #T_896e3_row7_col6, #T_896e3_row7_col9, #T_896e3_row7_col15, #T_896e3_row7_col16, #T_896e3_row8_col14, #T_896e3_row9_col16, #T_896e3_row10_col5, #T_896e3_row11_col6, #T_896e3_row11_col16, #T_896e3_row12_col1, #T_896e3_row12_col3, #T_896e3_row12_col13, #T_896e3_row12_col18, #T_896e3_row13_col12, #T_896e3_row14_col5, #T_896e3_row14_col11, #T_896e3_row15_col6, #T_896e3_row15_col9, #T_896e3_row15_col17, #T_896e3_row15_col19, #T_896e3_row16_col12, #T_896e3_row16_col13, #T_896e3_row16_col17, #T_896e3_row18_col3, #T_896e3_row18_col16, #T_896e3_row18_col19, #T_896e3_row19_col3, #T_896e3_row19_col18 {\n",
       "  background-color: #eef5fc;\n",
       "  color: #000000;\n",
       "}\n",
       "#T_896e3_row0_col15 {\n",
       "  background-color: #e4eff9;\n",
       "  color: #000000;\n",
       "}\n",
       "#T_896e3_row0_col17, #T_896e3_row1_col10, #T_896e3_row1_col14, #T_896e3_row2_col5, #T_896e3_row3_col8, #T_896e3_row4_col7, #T_896e3_row4_col11, #T_896e3_row6_col2, #T_896e3_row8_col2, #T_896e3_row8_col4, #T_896e3_row8_col18, #T_896e3_row10_col3, #T_896e3_row12_col6, #T_896e3_row13_col1, #T_896e3_row13_col3, #T_896e3_row14_col3, #T_896e3_row15_col11, #T_896e3_row15_col13, #T_896e3_row16_col6, #T_896e3_row17_col7, #T_896e3_row18_col8, #T_896e3_row18_col15 {\n",
       "  background-color: #f4f9fe;\n",
       "  color: #000000;\n",
       "}\n",
       "#T_896e3_row0_col18, #T_896e3_row1_col8, #T_896e3_row1_col19, #T_896e3_row2_col13, #T_896e3_row3_col10, #T_896e3_row3_col13, #T_896e3_row6_col12, #T_896e3_row9_col17, #T_896e3_row10_col2, #T_896e3_row10_col8, #T_896e3_row11_col3, #T_896e3_row14_col0, #T_896e3_row14_col15, #T_896e3_row15_col3, #T_896e3_row15_col10, #T_896e3_row18_col1 {\n",
       "  background-color: #f3f8fe;\n",
       "  color: #000000;\n",
       "}\n",
       "#T_896e3_row0_col19 {\n",
       "  background-color: #cbdef1;\n",
       "  color: #000000;\n",
       "}\n",
       "#T_896e3_row1_col0, #T_896e3_row3_col19, #T_896e3_row5_col4, #T_896e3_row6_col7, #T_896e3_row7_col3, #T_896e3_row8_col17, #T_896e3_row9_col6, #T_896e3_row9_col7, #T_896e3_row10_col0, #T_896e3_row10_col6, #T_896e3_row10_col17, #T_896e3_row11_col2, #T_896e3_row11_col4, #T_896e3_row11_col8, #T_896e3_row11_col13, #T_896e3_row11_col15, #T_896e3_row12_col4, #T_896e3_row13_col18, #T_896e3_row13_col19, #T_896e3_row14_col8, #T_896e3_row16_col0, #T_896e3_row16_col14, #T_896e3_row16_col19, #T_896e3_row17_col8, #T_896e3_row17_col10, #T_896e3_row18_col12 {\n",
       "  background-color: #edf4fc;\n",
       "  color: #000000;\n",
       "}\n",
       "#T_896e3_row1_col2, #T_896e3_row3_col15, #T_896e3_row4_col12, #T_896e3_row5_col0, #T_896e3_row5_col16, #T_896e3_row5_col18, #T_896e3_row8_col1, #T_896e3_row9_col13, #T_896e3_row11_col1, #T_896e3_row11_col9, #T_896e3_row13_col9, #T_896e3_row14_col1, #T_896e3_row17_col14, #T_896e3_row18_col9, #T_896e3_row19_col1 {\n",
       "  background-color: #f0f6fd;\n",
       "  color: #000000;\n",
       "}\n",
       "#T_896e3_row1_col5, #T_896e3_row4_col5, #T_896e3_row5_col10, #T_896e3_row5_col15, #T_896e3_row6_col4, #T_896e3_row6_col5, #T_896e3_row7_col0, #T_896e3_row9_col1, #T_896e3_row9_col4, #T_896e3_row12_col0, #T_896e3_row14_col17, #T_896e3_row15_col7, #T_896e3_row15_col8, #T_896e3_row15_col12, #T_896e3_row17_col18, #T_896e3_row18_col5, #T_896e3_row18_col11, #T_896e3_row18_col17 {\n",
       "  background-color: #eff6fc;\n",
       "  color: #000000;\n",
       "}\n",
       "#T_896e3_row1_col6, #T_896e3_row2_col9, #T_896e3_row2_col17, #T_896e3_row3_col2, #T_896e3_row3_col17, #T_896e3_row4_col3, #T_896e3_row7_col17, #T_896e3_row8_col3, #T_896e3_row8_col7, #T_896e3_row9_col10, #T_896e3_row9_col11, #T_896e3_row10_col9, #T_896e3_row10_col16, #T_896e3_row12_col11, #T_896e3_row14_col7, #T_896e3_row16_col8, #T_896e3_row17_col3, #T_896e3_row17_col13 {\n",
       "  background-color: #f5f9fe;\n",
       "  color: #000000;\n",
       "}\n",
       "#T_896e3_row1_col9, #T_896e3_row2_col7, #T_896e3_row2_col11, #T_896e3_row3_col6, #T_896e3_row4_col6, #T_896e3_row4_col9, #T_896e3_row5_col2, #T_896e3_row6_col3, #T_896e3_row6_col8, #T_896e3_row6_col17, #T_896e3_row7_col12, #T_896e3_row8_col6, #T_896e3_row8_col10, #T_896e3_row9_col2, #T_896e3_row10_col4, #T_896e3_row11_col5, #T_896e3_row14_col2, #T_896e3_row16_col2, #T_896e3_row16_col5, #T_896e3_row17_col2, #T_896e3_row17_col6, #T_896e3_row17_col9 {\n",
       "  background-color: #f2f8fd;\n",
       "  color: #000000;\n",
       "}\n",
       "#T_896e3_row1_col13, #T_896e3_row1_col18, #T_896e3_row2_col6, #T_896e3_row2_col8, #T_896e3_row2_col14, #T_896e3_row2_col15, #T_896e3_row3_col5, #T_896e3_row3_col11, #T_896e3_row6_col14, #T_896e3_row8_col5, #T_896e3_row17_col5, #T_896e3_row17_col11 {\n",
       "  background-color: #f6faff;\n",
       "  color: #000000;\n",
       "}\n",
       "#T_896e3_row2_col10, #T_896e3_row3_col14, #T_896e3_row4_col10, #T_896e3_row4_col18, #T_896e3_row6_col13, #T_896e3_row7_col8, #T_896e3_row7_col11, #T_896e3_row8_col0, #T_896e3_row10_col12, #T_896e3_row12_col10, #T_896e3_row13_col0, #T_896e3_row13_col17, #T_896e3_row14_col6, #T_896e3_row14_col9, #T_896e3_row16_col11 {\n",
       "  background-color: #f5fafe;\n",
       "  color: #000000;\n",
       "}\n",
       "#T_896e3_row2_col12, #T_896e3_row5_col13, #T_896e3_row13_col5, #T_896e3_row14_col19, #T_896e3_row19_col16 {\n",
       "  background-color: #eaf2fb;\n",
       "  color: #000000;\n",
       "}\n",
       "#T_896e3_row3_col0, #T_896e3_row5_col19, #T_896e3_row6_col0, #T_896e3_row9_col0, #T_896e3_row13_col4, #T_896e3_row14_col10, #T_896e3_row14_col16 {\n",
       "  background-color: #e9f2fa;\n",
       "  color: #000000;\n",
       "}\n",
       "#T_896e3_row3_col9, #T_896e3_row9_col3 {\n",
       "  background-color: #3a8ac2;\n",
       "  color: #f1f1f1;\n",
       "}\n",
       "#T_896e3_row4_col16, #T_896e3_row16_col4 {\n",
       "  background-color: #4997c9;\n",
       "  color: #f1f1f1;\n",
       "}\n",
       "#T_896e3_row10_col11 {\n",
       "  background-color: #66abd4;\n",
       "  color: #f1f1f1;\n",
       "}\n",
       "#T_896e3_row10_col13, #T_896e3_row15_col0 {\n",
       "  background-color: #e5eff9;\n",
       "  color: #000000;\n",
       "}\n",
       "#T_896e3_row10_col18, #T_896e3_row12_col2, #T_896e3_row14_col4, #T_896e3_row18_col10 {\n",
       "  background-color: #e7f1fa;\n",
       "  color: #000000;\n",
       "}\n",
       "#T_896e3_row10_col19, #T_896e3_row19_col10, #T_896e3_row19_col11 {\n",
       "  background-color: #d5e5f4;\n",
       "  color: #000000;\n",
       "}\n",
       "#T_896e3_row11_col10 {\n",
       "  background-color: #63a8d3;\n",
       "  color: #f1f1f1;\n",
       "}\n",
       "#T_896e3_row11_col19 {\n",
       "  background-color: #d2e3f3;\n",
       "  color: #000000;\n",
       "}\n",
       "#T_896e3_row12_col19, #T_896e3_row19_col12 {\n",
       "  background-color: #08458a;\n",
       "  color: #f1f1f1;\n",
       "}\n",
       "#T_896e3_row13_col10 {\n",
       "  background-color: #e6f0f9;\n",
       "  color: #000000;\n",
       "}\n",
       "#T_896e3_row13_col14 {\n",
       "  background-color: #65aad4;\n",
       "  color: #f1f1f1;\n",
       "}\n",
       "#T_896e3_row14_col13 {\n",
       "  background-color: #64a9d3;\n",
       "  color: #f1f1f1;\n",
       "}\n",
       "#T_896e3_row19_col0 {\n",
       "  background-color: #caddf0;\n",
       "  color: #000000;\n",
       "}\n",
       "#T_896e3_row19_col5 {\n",
       "  background-color: #e8f1fa;\n",
       "  color: #000000;\n",
       "}\n",
       "</style>\n",
       "<table id=\"T_896e3\">\n",
       "  <thead>\n",
       "    <tr>\n",
       "      <th class=\"blank level0\" >&nbsp;</th>\n",
       "      <th id=\"T_896e3_level0_col0\" class=\"col_heading level0 col0\" >battery_power</th>\n",
       "      <th id=\"T_896e3_level0_col1\" class=\"col_heading level0 col1\" >clock_speed</th>\n",
       "      <th id=\"T_896e3_level0_col2\" class=\"col_heading level0 col2\" >dual_sim</th>\n",
       "      <th id=\"T_896e3_level0_col3\" class=\"col_heading level0 col3\" >fc</th>\n",
       "      <th id=\"T_896e3_level0_col4\" class=\"col_heading level0 col4\" >four_g</th>\n",
       "      <th id=\"T_896e3_level0_col5\" class=\"col_heading level0 col5\" >int_memory</th>\n",
       "      <th id=\"T_896e3_level0_col6\" class=\"col_heading level0 col6\" >m_dep</th>\n",
       "      <th id=\"T_896e3_level0_col7\" class=\"col_heading level0 col7\" >mobile_wt</th>\n",
       "      <th id=\"T_896e3_level0_col8\" class=\"col_heading level0 col8\" >n_cores</th>\n",
       "      <th id=\"T_896e3_level0_col9\" class=\"col_heading level0 col9\" >pc</th>\n",
       "      <th id=\"T_896e3_level0_col10\" class=\"col_heading level0 col10\" >px_height</th>\n",
       "      <th id=\"T_896e3_level0_col11\" class=\"col_heading level0 col11\" >px_width</th>\n",
       "      <th id=\"T_896e3_level0_col12\" class=\"col_heading level0 col12\" >ram</th>\n",
       "      <th id=\"T_896e3_level0_col13\" class=\"col_heading level0 col13\" >sc_h</th>\n",
       "      <th id=\"T_896e3_level0_col14\" class=\"col_heading level0 col14\" >sc_w</th>\n",
       "      <th id=\"T_896e3_level0_col15\" class=\"col_heading level0 col15\" >talk_time</th>\n",
       "      <th id=\"T_896e3_level0_col16\" class=\"col_heading level0 col16\" >three_g</th>\n",
       "      <th id=\"T_896e3_level0_col17\" class=\"col_heading level0 col17\" >touch_screen</th>\n",
       "      <th id=\"T_896e3_level0_col18\" class=\"col_heading level0 col18\" >wifi</th>\n",
       "      <th id=\"T_896e3_level0_col19\" class=\"col_heading level0 col19\" >price_range</th>\n",
       "    </tr>\n",
       "  </thead>\n",
       "  <tbody>\n",
       "    <tr>\n",
       "      <th id=\"T_896e3_level0_row0\" class=\"row_heading level0 row0\" >battery_power</th>\n",
       "      <td id=\"T_896e3_row0_col0\" class=\"data row0 col0\" >1.000000</td>\n",
       "      <td id=\"T_896e3_row0_col1\" class=\"data row0 col1\" >0.011482</td>\n",
       "      <td id=\"T_896e3_row0_col2\" class=\"data row0 col2\" >-0.041847</td>\n",
       "      <td id=\"T_896e3_row0_col3\" class=\"data row0 col3\" >0.033334</td>\n",
       "      <td id=\"T_896e3_row0_col4\" class=\"data row0 col4\" >0.015665</td>\n",
       "      <td id=\"T_896e3_row0_col5\" class=\"data row0 col5\" >-0.004004</td>\n",
       "      <td id=\"T_896e3_row0_col6\" class=\"data row0 col6\" >0.034085</td>\n",
       "      <td id=\"T_896e3_row0_col7\" class=\"data row0 col7\" >0.001844</td>\n",
       "      <td id=\"T_896e3_row0_col8\" class=\"data row0 col8\" >-0.029727</td>\n",
       "      <td id=\"T_896e3_row0_col9\" class=\"data row0 col9\" >0.031441</td>\n",
       "      <td id=\"T_896e3_row0_col10\" class=\"data row0 col10\" >0.014901</td>\n",
       "      <td id=\"T_896e3_row0_col11\" class=\"data row0 col11\" >-0.008402</td>\n",
       "      <td id=\"T_896e3_row0_col12\" class=\"data row0 col12\" >-0.000653</td>\n",
       "      <td id=\"T_896e3_row0_col13\" class=\"data row0 col13\" >-0.029959</td>\n",
       "      <td id=\"T_896e3_row0_col14\" class=\"data row0 col14\" >-0.021421</td>\n",
       "      <td id=\"T_896e3_row0_col15\" class=\"data row0 col15\" >0.052510</td>\n",
       "      <td id=\"T_896e3_row0_col16\" class=\"data row0 col16\" >0.011522</td>\n",
       "      <td id=\"T_896e3_row0_col17\" class=\"data row0 col17\" >-0.010516</td>\n",
       "      <td id=\"T_896e3_row0_col18\" class=\"data row0 col18\" >-0.008343</td>\n",
       "      <td id=\"T_896e3_row0_col19\" class=\"data row0 col19\" >0.200723</td>\n",
       "    </tr>\n",
       "    <tr>\n",
       "      <th id=\"T_896e3_level0_row1\" class=\"row_heading level0 row1\" >clock_speed</th>\n",
       "      <td id=\"T_896e3_row1_col0\" class=\"data row1 col0\" >0.011482</td>\n",
       "      <td id=\"T_896e3_row1_col1\" class=\"data row1 col1\" >1.000000</td>\n",
       "      <td id=\"T_896e3_row1_col2\" class=\"data row1 col2\" >-0.001315</td>\n",
       "      <td id=\"T_896e3_row1_col3\" class=\"data row1 col3\" >-0.000434</td>\n",
       "      <td id=\"T_896e3_row1_col4\" class=\"data row1 col4\" >-0.043073</td>\n",
       "      <td id=\"T_896e3_row1_col5\" class=\"data row1 col5\" >0.006545</td>\n",
       "      <td id=\"T_896e3_row1_col6\" class=\"data row1 col6\" >-0.014364</td>\n",
       "      <td id=\"T_896e3_row1_col7\" class=\"data row1 col7\" >0.012350</td>\n",
       "      <td id=\"T_896e3_row1_col8\" class=\"data row1 col8\" >-0.005724</td>\n",
       "      <td id=\"T_896e3_row1_col9\" class=\"data row1 col9\" >-0.005245</td>\n",
       "      <td id=\"T_896e3_row1_col10\" class=\"data row1 col10\" >-0.014523</td>\n",
       "      <td id=\"T_896e3_row1_col11\" class=\"data row1 col11\" >-0.009476</td>\n",
       "      <td id=\"T_896e3_row1_col12\" class=\"data row1 col12\" >0.003443</td>\n",
       "      <td id=\"T_896e3_row1_col13\" class=\"data row1 col13\" >-0.029078</td>\n",
       "      <td id=\"T_896e3_row1_col14\" class=\"data row1 col14\" >-0.007378</td>\n",
       "      <td id=\"T_896e3_row1_col15\" class=\"data row1 col15\" >-0.011432</td>\n",
       "      <td id=\"T_896e3_row1_col16\" class=\"data row1 col16\" >-0.046433</td>\n",
       "      <td id=\"T_896e3_row1_col17\" class=\"data row1 col17\" >0.019756</td>\n",
       "      <td id=\"T_896e3_row1_col18\" class=\"data row1 col18\" >-0.024471</td>\n",
       "      <td id=\"T_896e3_row1_col19\" class=\"data row1 col19\" >-0.006606</td>\n",
       "    </tr>\n",
       "    <tr>\n",
       "      <th id=\"T_896e3_level0_row2\" class=\"row_heading level0 row2\" >dual_sim</th>\n",
       "      <td id=\"T_896e3_row2_col0\" class=\"data row2 col0\" >-0.041847</td>\n",
       "      <td id=\"T_896e3_row2_col1\" class=\"data row2 col1\" >-0.001315</td>\n",
       "      <td id=\"T_896e3_row2_col2\" class=\"data row2 col2\" >1.000000</td>\n",
       "      <td id=\"T_896e3_row2_col3\" class=\"data row2 col3\" >-0.029123</td>\n",
       "      <td id=\"T_896e3_row2_col4\" class=\"data row2 col4\" >0.003187</td>\n",
       "      <td id=\"T_896e3_row2_col5\" class=\"data row2 col5\" >-0.015679</td>\n",
       "      <td id=\"T_896e3_row2_col6\" class=\"data row2 col6\" >-0.022142</td>\n",
       "      <td id=\"T_896e3_row2_col7\" class=\"data row2 col7\" >-0.008979</td>\n",
       "      <td id=\"T_896e3_row2_col8\" class=\"data row2 col8\" >-0.024658</td>\n",
       "      <td id=\"T_896e3_row2_col9\" class=\"data row2 col9\" >-0.017143</td>\n",
       "      <td id=\"T_896e3_row2_col10\" class=\"data row2 col10\" >-0.020875</td>\n",
       "      <td id=\"T_896e3_row2_col11\" class=\"data row2 col11\" >0.014291</td>\n",
       "      <td id=\"T_896e3_row2_col12\" class=\"data row2 col12\" >0.041072</td>\n",
       "      <td id=\"T_896e3_row2_col13\" class=\"data row2 col13\" >-0.011949</td>\n",
       "      <td id=\"T_896e3_row2_col14\" class=\"data row2 col14\" >-0.016666</td>\n",
       "      <td id=\"T_896e3_row2_col15\" class=\"data row2 col15\" >-0.039404</td>\n",
       "      <td id=\"T_896e3_row2_col16\" class=\"data row2 col16\" >-0.014008</td>\n",
       "      <td id=\"T_896e3_row2_col17\" class=\"data row2 col17\" >-0.017117</td>\n",
       "      <td id=\"T_896e3_row2_col18\" class=\"data row2 col18\" >0.022740</td>\n",
       "      <td id=\"T_896e3_row2_col19\" class=\"data row2 col19\" >0.017444</td>\n",
       "    </tr>\n",
       "    <tr>\n",
       "      <th id=\"T_896e3_level0_row3\" class=\"row_heading level0 row3\" >fc</th>\n",
       "      <td id=\"T_896e3_row3_col0\" class=\"data row3 col0\" >0.033334</td>\n",
       "      <td id=\"T_896e3_row3_col1\" class=\"data row3 col1\" >-0.000434</td>\n",
       "      <td id=\"T_896e3_row3_col2\" class=\"data row3 col2\" >-0.029123</td>\n",
       "      <td id=\"T_896e3_row3_col3\" class=\"data row3 col3\" >1.000000</td>\n",
       "      <td id=\"T_896e3_row3_col4\" class=\"data row3 col4\" >-0.016560</td>\n",
       "      <td id=\"T_896e3_row3_col5\" class=\"data row3 col5\" >-0.029133</td>\n",
       "      <td id=\"T_896e3_row3_col6\" class=\"data row3 col6\" >-0.001791</td>\n",
       "      <td id=\"T_896e3_row3_col7\" class=\"data row3 col7\" >0.023618</td>\n",
       "      <td id=\"T_896e3_row3_col8\" class=\"data row3 col8\" >-0.013356</td>\n",
       "      <td id=\"T_896e3_row3_col9\" class=\"data row3 col9\" >0.644595</td>\n",
       "      <td id=\"T_896e3_row3_col10\" class=\"data row3 col10\" >-0.009990</td>\n",
       "      <td id=\"T_896e3_row3_col11\" class=\"data row3 col11\" >-0.005176</td>\n",
       "      <td id=\"T_896e3_row3_col12\" class=\"data row3 col12\" >0.015099</td>\n",
       "      <td id=\"T_896e3_row3_col13\" class=\"data row3 col13\" >-0.011014</td>\n",
       "      <td id=\"T_896e3_row3_col14\" class=\"data row3 col14\" >-0.012373</td>\n",
       "      <td id=\"T_896e3_row3_col15\" class=\"data row3 col15\" >-0.006829</td>\n",
       "      <td id=\"T_896e3_row3_col16\" class=\"data row3 col16\" >0.001793</td>\n",
       "      <td id=\"T_896e3_row3_col17\" class=\"data row3 col17\" >-0.014828</td>\n",
       "      <td id=\"T_896e3_row3_col18\" class=\"data row3 col18\" >0.020085</td>\n",
       "      <td id=\"T_896e3_row3_col19\" class=\"data row3 col19\" >0.021998</td>\n",
       "    </tr>\n",
       "    <tr>\n",
       "      <th id=\"T_896e3_level0_row4\" class=\"row_heading level0 row4\" >four_g</th>\n",
       "      <td id=\"T_896e3_row4_col0\" class=\"data row4 col0\" >0.015665</td>\n",
       "      <td id=\"T_896e3_row4_col1\" class=\"data row4 col1\" >-0.043073</td>\n",
       "      <td id=\"T_896e3_row4_col2\" class=\"data row4 col2\" >0.003187</td>\n",
       "      <td id=\"T_896e3_row4_col3\" class=\"data row4 col3\" >-0.016560</td>\n",
       "      <td id=\"T_896e3_row4_col4\" class=\"data row4 col4\" >1.000000</td>\n",
       "      <td id=\"T_896e3_row4_col5\" class=\"data row4 col5\" >0.008690</td>\n",
       "      <td id=\"T_896e3_row4_col6\" class=\"data row4 col6\" >-0.001823</td>\n",
       "      <td id=\"T_896e3_row4_col7\" class=\"data row4 col7\" >-0.016537</td>\n",
       "      <td id=\"T_896e3_row4_col8\" class=\"data row4 col8\" >-0.029706</td>\n",
       "      <td id=\"T_896e3_row4_col9\" class=\"data row4 col9\" >-0.005598</td>\n",
       "      <td id=\"T_896e3_row4_col10\" class=\"data row4 col10\" >-0.019236</td>\n",
       "      <td id=\"T_896e3_row4_col11\" class=\"data row4 col11\" >0.007448</td>\n",
       "      <td id=\"T_896e3_row4_col12\" class=\"data row4 col12\" >0.007313</td>\n",
       "      <td id=\"T_896e3_row4_col13\" class=\"data row4 col13\" >0.027166</td>\n",
       "      <td id=\"T_896e3_row4_col14\" class=\"data row4 col14\" >0.037005</td>\n",
       "      <td id=\"T_896e3_row4_col15\" class=\"data row4 col15\" >-0.046628</td>\n",
       "      <td id=\"T_896e3_row4_col16\" class=\"data row4 col16\" >0.584246</td>\n",
       "      <td id=\"T_896e3_row4_col17\" class=\"data row4 col17\" >0.016758</td>\n",
       "      <td id=\"T_896e3_row4_col18\" class=\"data row4 col18\" >-0.017620</td>\n",
       "      <td id=\"T_896e3_row4_col19\" class=\"data row4 col19\" >0.014772</td>\n",
       "    </tr>\n",
       "    <tr>\n",
       "      <th id=\"T_896e3_level0_row5\" class=\"row_heading level0 row5\" >int_memory</th>\n",
       "      <td id=\"T_896e3_row5_col0\" class=\"data row5 col0\" >-0.004004</td>\n",
       "      <td id=\"T_896e3_row5_col1\" class=\"data row5 col1\" >0.006545</td>\n",
       "      <td id=\"T_896e3_row5_col2\" class=\"data row5 col2\" >-0.015679</td>\n",
       "      <td id=\"T_896e3_row5_col3\" class=\"data row5 col3\" >-0.029133</td>\n",
       "      <td id=\"T_896e3_row5_col4\" class=\"data row5 col4\" >0.008690</td>\n",
       "      <td id=\"T_896e3_row5_col5\" class=\"data row5 col5\" >1.000000</td>\n",
       "      <td id=\"T_896e3_row5_col6\" class=\"data row5 col6\" >0.006886</td>\n",
       "      <td id=\"T_896e3_row5_col7\" class=\"data row5 col7\" >-0.034214</td>\n",
       "      <td id=\"T_896e3_row5_col8\" class=\"data row5 col8\" >-0.028310</td>\n",
       "      <td id=\"T_896e3_row5_col9\" class=\"data row5 col9\" >-0.033273</td>\n",
       "      <td id=\"T_896e3_row5_col10\" class=\"data row5 col10\" >0.010441</td>\n",
       "      <td id=\"T_896e3_row5_col11\" class=\"data row5 col11\" >-0.008335</td>\n",
       "      <td id=\"T_896e3_row5_col12\" class=\"data row5 col12\" >0.032813</td>\n",
       "      <td id=\"T_896e3_row5_col13\" class=\"data row5 col13\" >0.037771</td>\n",
       "      <td id=\"T_896e3_row5_col14\" class=\"data row5 col14\" >0.011731</td>\n",
       "      <td id=\"T_896e3_row5_col15\" class=\"data row5 col15\" >-0.002790</td>\n",
       "      <td id=\"T_896e3_row5_col16\" class=\"data row5 col16\" >-0.009366</td>\n",
       "      <td id=\"T_896e3_row5_col17\" class=\"data row5 col17\" >-0.026999</td>\n",
       "      <td id=\"T_896e3_row5_col18\" class=\"data row5 col18\" >0.006993</td>\n",
       "      <td id=\"T_896e3_row5_col19\" class=\"data row5 col19\" >0.044435</td>\n",
       "    </tr>\n",
       "    <tr>\n",
       "      <th id=\"T_896e3_level0_row6\" class=\"row_heading level0 row6\" >m_dep</th>\n",
       "      <td id=\"T_896e3_row6_col0\" class=\"data row6 col0\" >0.034085</td>\n",
       "      <td id=\"T_896e3_row6_col1\" class=\"data row6 col1\" >-0.014364</td>\n",
       "      <td id=\"T_896e3_row6_col2\" class=\"data row6 col2\" >-0.022142</td>\n",
       "      <td id=\"T_896e3_row6_col3\" class=\"data row6 col3\" >-0.001791</td>\n",
       "      <td id=\"T_896e3_row6_col4\" class=\"data row6 col4\" >-0.001823</td>\n",
       "      <td id=\"T_896e3_row6_col5\" class=\"data row6 col5\" >0.006886</td>\n",
       "      <td id=\"T_896e3_row6_col6\" class=\"data row6 col6\" >1.000000</td>\n",
       "      <td id=\"T_896e3_row6_col7\" class=\"data row6 col7\" >0.021756</td>\n",
       "      <td id=\"T_896e3_row6_col8\" class=\"data row6 col8\" >-0.003504</td>\n",
       "      <td id=\"T_896e3_row6_col9\" class=\"data row6 col9\" >0.026282</td>\n",
       "      <td id=\"T_896e3_row6_col10\" class=\"data row6 col10\" >0.025263</td>\n",
       "      <td id=\"T_896e3_row6_col11\" class=\"data row6 col11\" >0.023566</td>\n",
       "      <td id=\"T_896e3_row6_col12\" class=\"data row6 col12\" >-0.009434</td>\n",
       "      <td id=\"T_896e3_row6_col13\" class=\"data row6 col13\" >-0.025348</td>\n",
       "      <td id=\"T_896e3_row6_col14\" class=\"data row6 col14\" >-0.018388</td>\n",
       "      <td id=\"T_896e3_row6_col15\" class=\"data row6 col15\" >0.017003</td>\n",
       "      <td id=\"T_896e3_row6_col16\" class=\"data row6 col16\" >-0.012065</td>\n",
       "      <td id=\"T_896e3_row6_col17\" class=\"data row6 col17\" >-0.002638</td>\n",
       "      <td id=\"T_896e3_row6_col18\" class=\"data row6 col18\" >-0.028353</td>\n",
       "      <td id=\"T_896e3_row6_col19\" class=\"data row6 col19\" >0.000853</td>\n",
       "    </tr>\n",
       "    <tr>\n",
       "      <th id=\"T_896e3_level0_row7\" class=\"row_heading level0 row7\" >mobile_wt</th>\n",
       "      <td id=\"T_896e3_row7_col0\" class=\"data row7 col0\" >0.001844</td>\n",
       "      <td id=\"T_896e3_row7_col1\" class=\"data row7 col1\" >0.012350</td>\n",
       "      <td id=\"T_896e3_row7_col2\" class=\"data row7 col2\" >-0.008979</td>\n",
       "      <td id=\"T_896e3_row7_col3\" class=\"data row7 col3\" >0.023618</td>\n",
       "      <td id=\"T_896e3_row7_col4\" class=\"data row7 col4\" >-0.016537</td>\n",
       "      <td id=\"T_896e3_row7_col5\" class=\"data row7 col5\" >-0.034214</td>\n",
       "      <td id=\"T_896e3_row7_col6\" class=\"data row7 col6\" >0.021756</td>\n",
       "      <td id=\"T_896e3_row7_col7\" class=\"data row7 col7\" >1.000000</td>\n",
       "      <td id=\"T_896e3_row7_col8\" class=\"data row7 col8\" >-0.018989</td>\n",
       "      <td id=\"T_896e3_row7_col9\" class=\"data row7 col9\" >0.018844</td>\n",
       "      <td id=\"T_896e3_row7_col10\" class=\"data row7 col10\" >0.000939</td>\n",
       "      <td id=\"T_896e3_row7_col11\" class=\"data row7 col11\" >0.000090</td>\n",
       "      <td id=\"T_896e3_row7_col12\" class=\"data row7 col12\" >-0.002581</td>\n",
       "      <td id=\"T_896e3_row7_col13\" class=\"data row7 col13\" >-0.033855</td>\n",
       "      <td id=\"T_896e3_row7_col14\" class=\"data row7 col14\" >-0.020761</td>\n",
       "      <td id=\"T_896e3_row7_col15\" class=\"data row7 col15\" >0.006209</td>\n",
       "      <td id=\"T_896e3_row7_col16\" class=\"data row7 col16\" >0.001551</td>\n",
       "      <td id=\"T_896e3_row7_col17\" class=\"data row7 col17\" >-0.014368</td>\n",
       "      <td id=\"T_896e3_row7_col18\" class=\"data row7 col18\" >-0.000409</td>\n",
       "      <td id=\"T_896e3_row7_col19\" class=\"data row7 col19\" >-0.030302</td>\n",
       "    </tr>\n",
       "    <tr>\n",
       "      <th id=\"T_896e3_level0_row8\" class=\"row_heading level0 row8\" >n_cores</th>\n",
       "      <td id=\"T_896e3_row8_col0\" class=\"data row8 col0\" >-0.029727</td>\n",
       "      <td id=\"T_896e3_row8_col1\" class=\"data row8 col1\" >-0.005724</td>\n",
       "      <td id=\"T_896e3_row8_col2\" class=\"data row8 col2\" >-0.024658</td>\n",
       "      <td id=\"T_896e3_row8_col3\" class=\"data row8 col3\" >-0.013356</td>\n",
       "      <td id=\"T_896e3_row8_col4\" class=\"data row8 col4\" >-0.029706</td>\n",
       "      <td id=\"T_896e3_row8_col5\" class=\"data row8 col5\" >-0.028310</td>\n",
       "      <td id=\"T_896e3_row8_col6\" class=\"data row8 col6\" >-0.003504</td>\n",
       "      <td id=\"T_896e3_row8_col7\" class=\"data row8 col7\" >-0.018989</td>\n",
       "      <td id=\"T_896e3_row8_col8\" class=\"data row8 col8\" >1.000000</td>\n",
       "      <td id=\"T_896e3_row8_col9\" class=\"data row8 col9\" >-0.001193</td>\n",
       "      <td id=\"T_896e3_row8_col10\" class=\"data row8 col10\" >-0.006872</td>\n",
       "      <td id=\"T_896e3_row8_col11\" class=\"data row8 col11\" >0.024480</td>\n",
       "      <td id=\"T_896e3_row8_col12\" class=\"data row8 col12\" >0.004868</td>\n",
       "      <td id=\"T_896e3_row8_col13\" class=\"data row8 col13\" >-0.000315</td>\n",
       "      <td id=\"T_896e3_row8_col14\" class=\"data row8 col14\" >0.025826</td>\n",
       "      <td id=\"T_896e3_row8_col15\" class=\"data row8 col15\" >0.013148</td>\n",
       "      <td id=\"T_896e3_row8_col16\" class=\"data row8 col16\" >-0.014733</td>\n",
       "      <td id=\"T_896e3_row8_col17\" class=\"data row8 col17\" >0.023774</td>\n",
       "      <td id=\"T_896e3_row8_col18\" class=\"data row8 col18\" >-0.009964</td>\n",
       "      <td id=\"T_896e3_row8_col19\" class=\"data row8 col19\" >0.004399</td>\n",
       "    </tr>\n",
       "    <tr>\n",
       "      <th id=\"T_896e3_level0_row9\" class=\"row_heading level0 row9\" >pc</th>\n",
       "      <td id=\"T_896e3_row9_col0\" class=\"data row9 col0\" >0.031441</td>\n",
       "      <td id=\"T_896e3_row9_col1\" class=\"data row9 col1\" >-0.005245</td>\n",
       "      <td id=\"T_896e3_row9_col2\" class=\"data row9 col2\" >-0.017143</td>\n",
       "      <td id=\"T_896e3_row9_col3\" class=\"data row9 col3\" >0.644595</td>\n",
       "      <td id=\"T_896e3_row9_col4\" class=\"data row9 col4\" >-0.005598</td>\n",
       "      <td id=\"T_896e3_row9_col5\" class=\"data row9 col5\" >-0.033273</td>\n",
       "      <td id=\"T_896e3_row9_col6\" class=\"data row9 col6\" >0.026282</td>\n",
       "      <td id=\"T_896e3_row9_col7\" class=\"data row9 col7\" >0.018844</td>\n",
       "      <td id=\"T_896e3_row9_col8\" class=\"data row9 col8\" >-0.001193</td>\n",
       "      <td id=\"T_896e3_row9_col9\" class=\"data row9 col9\" >1.000000</td>\n",
       "      <td id=\"T_896e3_row9_col10\" class=\"data row9 col10\" >-0.018465</td>\n",
       "      <td id=\"T_896e3_row9_col11\" class=\"data row9 col11\" >0.004196</td>\n",
       "      <td id=\"T_896e3_row9_col12\" class=\"data row9 col12\" >0.028984</td>\n",
       "      <td id=\"T_896e3_row9_col13\" class=\"data row9 col13\" >0.004938</td>\n",
       "      <td id=\"T_896e3_row9_col14\" class=\"data row9 col14\" >-0.023819</td>\n",
       "      <td id=\"T_896e3_row9_col15\" class=\"data row9 col15\" >0.014657</td>\n",
       "      <td id=\"T_896e3_row9_col16\" class=\"data row9 col16\" >-0.001322</td>\n",
       "      <td id=\"T_896e3_row9_col17\" class=\"data row9 col17\" >-0.008742</td>\n",
       "      <td id=\"T_896e3_row9_col18\" class=\"data row9 col18\" >0.005389</td>\n",
       "      <td id=\"T_896e3_row9_col19\" class=\"data row9 col19\" >0.033599</td>\n",
       "    </tr>\n",
       "    <tr>\n",
       "      <th id=\"T_896e3_level0_row10\" class=\"row_heading level0 row10\" >px_height</th>\n",
       "      <td id=\"T_896e3_row10_col0\" class=\"data row10 col0\" >0.014901</td>\n",
       "      <td id=\"T_896e3_row10_col1\" class=\"data row10 col1\" >-0.014523</td>\n",
       "      <td id=\"T_896e3_row10_col2\" class=\"data row10 col2\" >-0.020875</td>\n",
       "      <td id=\"T_896e3_row10_col3\" class=\"data row10 col3\" >-0.009990</td>\n",
       "      <td id=\"T_896e3_row10_col4\" class=\"data row10 col4\" >-0.019236</td>\n",
       "      <td id=\"T_896e3_row10_col5\" class=\"data row10 col5\" >0.010441</td>\n",
       "      <td id=\"T_896e3_row10_col6\" class=\"data row10 col6\" >0.025263</td>\n",
       "      <td id=\"T_896e3_row10_col7\" class=\"data row10 col7\" >0.000939</td>\n",
       "      <td id=\"T_896e3_row10_col8\" class=\"data row10 col8\" >-0.006872</td>\n",
       "      <td id=\"T_896e3_row10_col9\" class=\"data row10 col9\" >-0.018465</td>\n",
       "      <td id=\"T_896e3_row10_col10\" class=\"data row10 col10\" >1.000000</td>\n",
       "      <td id=\"T_896e3_row10_col11\" class=\"data row10 col11\" >0.510664</td>\n",
       "      <td id=\"T_896e3_row10_col12\" class=\"data row10 col12\" >-0.020352</td>\n",
       "      <td id=\"T_896e3_row10_col13\" class=\"data row10 col13\" >0.059615</td>\n",
       "      <td id=\"T_896e3_row10_col14\" class=\"data row10 col14\" >0.043038</td>\n",
       "      <td id=\"T_896e3_row10_col15\" class=\"data row10 col15\" >-0.010645</td>\n",
       "      <td id=\"T_896e3_row10_col16\" class=\"data row10 col16\" >-0.031174</td>\n",
       "      <td id=\"T_896e3_row10_col17\" class=\"data row10 col17\" >0.021891</td>\n",
       "      <td id=\"T_896e3_row10_col18\" class=\"data row10 col18\" >0.051824</td>\n",
       "      <td id=\"T_896e3_row10_col19\" class=\"data row10 col19\" >0.148858</td>\n",
       "    </tr>\n",
       "    <tr>\n",
       "      <th id=\"T_896e3_level0_row11\" class=\"row_heading level0 row11\" >px_width</th>\n",
       "      <td id=\"T_896e3_row11_col0\" class=\"data row11 col0\" >-0.008402</td>\n",
       "      <td id=\"T_896e3_row11_col1\" class=\"data row11 col1\" >-0.009476</td>\n",
       "      <td id=\"T_896e3_row11_col2\" class=\"data row11 col2\" >0.014291</td>\n",
       "      <td id=\"T_896e3_row11_col3\" class=\"data row11 col3\" >-0.005176</td>\n",
       "      <td id=\"T_896e3_row11_col4\" class=\"data row11 col4\" >0.007448</td>\n",
       "      <td id=\"T_896e3_row11_col5\" class=\"data row11 col5\" >-0.008335</td>\n",
       "      <td id=\"T_896e3_row11_col6\" class=\"data row11 col6\" >0.023566</td>\n",
       "      <td id=\"T_896e3_row11_col7\" class=\"data row11 col7\" >0.000090</td>\n",
       "      <td id=\"T_896e3_row11_col8\" class=\"data row11 col8\" >0.024480</td>\n",
       "      <td id=\"T_896e3_row11_col9\" class=\"data row11 col9\" >0.004196</td>\n",
       "      <td id=\"T_896e3_row11_col10\" class=\"data row11 col10\" >0.510664</td>\n",
       "      <td id=\"T_896e3_row11_col11\" class=\"data row11 col11\" >1.000000</td>\n",
       "      <td id=\"T_896e3_row11_col12\" class=\"data row11 col12\" >0.004105</td>\n",
       "      <td id=\"T_896e3_row11_col13\" class=\"data row11 col13\" >0.021599</td>\n",
       "      <td id=\"T_896e3_row11_col14\" class=\"data row11 col14\" >0.034699</td>\n",
       "      <td id=\"T_896e3_row11_col15\" class=\"data row11 col15\" >0.006720</td>\n",
       "      <td id=\"T_896e3_row11_col16\" class=\"data row11 col16\" >0.000350</td>\n",
       "      <td id=\"T_896e3_row11_col17\" class=\"data row11 col17\" >-0.001628</td>\n",
       "      <td id=\"T_896e3_row11_col18\" class=\"data row11 col18\" >0.030319</td>\n",
       "      <td id=\"T_896e3_row11_col19\" class=\"data row11 col19\" >0.165818</td>\n",
       "    </tr>\n",
       "    <tr>\n",
       "      <th id=\"T_896e3_level0_row12\" class=\"row_heading level0 row12\" >ram</th>\n",
       "      <td id=\"T_896e3_row12_col0\" class=\"data row12 col0\" >-0.000653</td>\n",
       "      <td id=\"T_896e3_row12_col1\" class=\"data row12 col1\" >0.003443</td>\n",
       "      <td id=\"T_896e3_row12_col2\" class=\"data row12 col2\" >0.041072</td>\n",
       "      <td id=\"T_896e3_row12_col3\" class=\"data row12 col3\" >0.015099</td>\n",
       "      <td id=\"T_896e3_row12_col4\" class=\"data row12 col4\" >0.007313</td>\n",
       "      <td id=\"T_896e3_row12_col5\" class=\"data row12 col5\" >0.032813</td>\n",
       "      <td id=\"T_896e3_row12_col6\" class=\"data row12 col6\" >-0.009434</td>\n",
       "      <td id=\"T_896e3_row12_col7\" class=\"data row12 col7\" >-0.002581</td>\n",
       "      <td id=\"T_896e3_row12_col8\" class=\"data row12 col8\" >0.004868</td>\n",
       "      <td id=\"T_896e3_row12_col9\" class=\"data row12 col9\" >0.028984</td>\n",
       "      <td id=\"T_896e3_row12_col10\" class=\"data row12 col10\" >-0.020352</td>\n",
       "      <td id=\"T_896e3_row12_col11\" class=\"data row12 col11\" >0.004105</td>\n",
       "      <td id=\"T_896e3_row12_col12\" class=\"data row12 col12\" >1.000000</td>\n",
       "      <td id=\"T_896e3_row12_col13\" class=\"data row12 col13\" >0.015996</td>\n",
       "      <td id=\"T_896e3_row12_col14\" class=\"data row12 col14\" >0.035576</td>\n",
       "      <td id=\"T_896e3_row12_col15\" class=\"data row12 col15\" >0.010820</td>\n",
       "      <td id=\"T_896e3_row12_col16\" class=\"data row12 col16\" >0.015795</td>\n",
       "      <td id=\"T_896e3_row12_col17\" class=\"data row12 col17\" >-0.030455</td>\n",
       "      <td id=\"T_896e3_row12_col18\" class=\"data row12 col18\" >0.022669</td>\n",
       "      <td id=\"T_896e3_row12_col19\" class=\"data row12 col19\" >0.917046</td>\n",
       "    </tr>\n",
       "    <tr>\n",
       "      <th id=\"T_896e3_level0_row13\" class=\"row_heading level0 row13\" >sc_h</th>\n",
       "      <td id=\"T_896e3_row13_col0\" class=\"data row13 col0\" >-0.029959</td>\n",
       "      <td id=\"T_896e3_row13_col1\" class=\"data row13 col1\" >-0.029078</td>\n",
       "      <td id=\"T_896e3_row13_col2\" class=\"data row13 col2\" >-0.011949</td>\n",
       "      <td id=\"T_896e3_row13_col3\" class=\"data row13 col3\" >-0.011014</td>\n",
       "      <td id=\"T_896e3_row13_col4\" class=\"data row13 col4\" >0.027166</td>\n",
       "      <td id=\"T_896e3_row13_col5\" class=\"data row13 col5\" >0.037771</td>\n",
       "      <td id=\"T_896e3_row13_col6\" class=\"data row13 col6\" >-0.025348</td>\n",
       "      <td id=\"T_896e3_row13_col7\" class=\"data row13 col7\" >-0.033855</td>\n",
       "      <td id=\"T_896e3_row13_col8\" class=\"data row13 col8\" >-0.000315</td>\n",
       "      <td id=\"T_896e3_row13_col9\" class=\"data row13 col9\" >0.004938</td>\n",
       "      <td id=\"T_896e3_row13_col10\" class=\"data row13 col10\" >0.059615</td>\n",
       "      <td id=\"T_896e3_row13_col11\" class=\"data row13 col11\" >0.021599</td>\n",
       "      <td id=\"T_896e3_row13_col12\" class=\"data row13 col12\" >0.015996</td>\n",
       "      <td id=\"T_896e3_row13_col13\" class=\"data row13 col13\" >1.000000</td>\n",
       "      <td id=\"T_896e3_row13_col14\" class=\"data row13 col14\" >0.506144</td>\n",
       "      <td id=\"T_896e3_row13_col15\" class=\"data row13 col15\" >-0.017335</td>\n",
       "      <td id=\"T_896e3_row13_col16\" class=\"data row13 col16\" >0.012033</td>\n",
       "      <td id=\"T_896e3_row13_col17\" class=\"data row13 col17\" >-0.020023</td>\n",
       "      <td id=\"T_896e3_row13_col18\" class=\"data row13 col18\" >0.025929</td>\n",
       "      <td id=\"T_896e3_row13_col19\" class=\"data row13 col19\" >0.022986</td>\n",
       "    </tr>\n",
       "    <tr>\n",
       "      <th id=\"T_896e3_level0_row14\" class=\"row_heading level0 row14\" >sc_w</th>\n",
       "      <td id=\"T_896e3_row14_col0\" class=\"data row14 col0\" >-0.021421</td>\n",
       "      <td id=\"T_896e3_row14_col1\" class=\"data row14 col1\" >-0.007378</td>\n",
       "      <td id=\"T_896e3_row14_col2\" class=\"data row14 col2\" >-0.016666</td>\n",
       "      <td id=\"T_896e3_row14_col3\" class=\"data row14 col3\" >-0.012373</td>\n",
       "      <td id=\"T_896e3_row14_col4\" class=\"data row14 col4\" >0.037005</td>\n",
       "      <td id=\"T_896e3_row14_col5\" class=\"data row14 col5\" >0.011731</td>\n",
       "      <td id=\"T_896e3_row14_col6\" class=\"data row14 col6\" >-0.018388</td>\n",
       "      <td id=\"T_896e3_row14_col7\" class=\"data row14 col7\" >-0.020761</td>\n",
       "      <td id=\"T_896e3_row14_col8\" class=\"data row14 col8\" >0.025826</td>\n",
       "      <td id=\"T_896e3_row14_col9\" class=\"data row14 col9\" >-0.023819</td>\n",
       "      <td id=\"T_896e3_row14_col10\" class=\"data row14 col10\" >0.043038</td>\n",
       "      <td id=\"T_896e3_row14_col11\" class=\"data row14 col11\" >0.034699</td>\n",
       "      <td id=\"T_896e3_row14_col12\" class=\"data row14 col12\" >0.035576</td>\n",
       "      <td id=\"T_896e3_row14_col13\" class=\"data row14 col13\" >0.506144</td>\n",
       "      <td id=\"T_896e3_row14_col14\" class=\"data row14 col14\" >1.000000</td>\n",
       "      <td id=\"T_896e3_row14_col15\" class=\"data row14 col15\" >-0.022821</td>\n",
       "      <td id=\"T_896e3_row14_col16\" class=\"data row14 col16\" >0.030941</td>\n",
       "      <td id=\"T_896e3_row14_col17\" class=\"data row14 col17\" >0.012720</td>\n",
       "      <td id=\"T_896e3_row14_col18\" class=\"data row14 col18\" >0.035423</td>\n",
       "      <td id=\"T_896e3_row14_col19\" class=\"data row14 col19\" >0.038711</td>\n",
       "    </tr>\n",
       "    <tr>\n",
       "      <th id=\"T_896e3_level0_row15\" class=\"row_heading level0 row15\" >talk_time</th>\n",
       "      <td id=\"T_896e3_row15_col0\" class=\"data row15 col0\" >0.052510</td>\n",
       "      <td id=\"T_896e3_row15_col1\" class=\"data row15 col1\" >-0.011432</td>\n",
       "      <td id=\"T_896e3_row15_col2\" class=\"data row15 col2\" >-0.039404</td>\n",
       "      <td id=\"T_896e3_row15_col3\" class=\"data row15 col3\" >-0.006829</td>\n",
       "      <td id=\"T_896e3_row15_col4\" class=\"data row15 col4\" >-0.046628</td>\n",
       "      <td id=\"T_896e3_row15_col5\" class=\"data row15 col5\" >-0.002790</td>\n",
       "      <td id=\"T_896e3_row15_col6\" class=\"data row15 col6\" >0.017003</td>\n",
       "      <td id=\"T_896e3_row15_col7\" class=\"data row15 col7\" >0.006209</td>\n",
       "      <td id=\"T_896e3_row15_col8\" class=\"data row15 col8\" >0.013148</td>\n",
       "      <td id=\"T_896e3_row15_col9\" class=\"data row15 col9\" >0.014657</td>\n",
       "      <td id=\"T_896e3_row15_col10\" class=\"data row15 col10\" >-0.010645</td>\n",
       "      <td id=\"T_896e3_row15_col11\" class=\"data row15 col11\" >0.006720</td>\n",
       "      <td id=\"T_896e3_row15_col12\" class=\"data row15 col12\" >0.010820</td>\n",
       "      <td id=\"T_896e3_row15_col13\" class=\"data row15 col13\" >-0.017335</td>\n",
       "      <td id=\"T_896e3_row15_col14\" class=\"data row15 col14\" >-0.022821</td>\n",
       "      <td id=\"T_896e3_row15_col15\" class=\"data row15 col15\" >1.000000</td>\n",
       "      <td id=\"T_896e3_row15_col16\" class=\"data row15 col16\" >-0.042688</td>\n",
       "      <td id=\"T_896e3_row15_col17\" class=\"data row15 col17\" >0.017196</td>\n",
       "      <td id=\"T_896e3_row15_col18\" class=\"data row15 col18\" >-0.029504</td>\n",
       "      <td id=\"T_896e3_row15_col19\" class=\"data row15 col19\" >0.021859</td>\n",
       "    </tr>\n",
       "    <tr>\n",
       "      <th id=\"T_896e3_level0_row16\" class=\"row_heading level0 row16\" >three_g</th>\n",
       "      <td id=\"T_896e3_row16_col0\" class=\"data row16 col0\" >0.011522</td>\n",
       "      <td id=\"T_896e3_row16_col1\" class=\"data row16 col1\" >-0.046433</td>\n",
       "      <td id=\"T_896e3_row16_col2\" class=\"data row16 col2\" >-0.014008</td>\n",
       "      <td id=\"T_896e3_row16_col3\" class=\"data row16 col3\" >0.001793</td>\n",
       "      <td id=\"T_896e3_row16_col4\" class=\"data row16 col4\" >0.584246</td>\n",
       "      <td id=\"T_896e3_row16_col5\" class=\"data row16 col5\" >-0.009366</td>\n",
       "      <td id=\"T_896e3_row16_col6\" class=\"data row16 col6\" >-0.012065</td>\n",
       "      <td id=\"T_896e3_row16_col7\" class=\"data row16 col7\" >0.001551</td>\n",
       "      <td id=\"T_896e3_row16_col8\" class=\"data row16 col8\" >-0.014733</td>\n",
       "      <td id=\"T_896e3_row16_col9\" class=\"data row16 col9\" >-0.001322</td>\n",
       "      <td id=\"T_896e3_row16_col10\" class=\"data row16 col10\" >-0.031174</td>\n",
       "      <td id=\"T_896e3_row16_col11\" class=\"data row16 col11\" >0.000350</td>\n",
       "      <td id=\"T_896e3_row16_col12\" class=\"data row16 col12\" >0.015795</td>\n",
       "      <td id=\"T_896e3_row16_col13\" class=\"data row16 col13\" >0.012033</td>\n",
       "      <td id=\"T_896e3_row16_col14\" class=\"data row16 col14\" >0.030941</td>\n",
       "      <td id=\"T_896e3_row16_col15\" class=\"data row16 col15\" >-0.042688</td>\n",
       "      <td id=\"T_896e3_row16_col16\" class=\"data row16 col16\" >1.000000</td>\n",
       "      <td id=\"T_896e3_row16_col17\" class=\"data row16 col17\" >0.013917</td>\n",
       "      <td id=\"T_896e3_row16_col18\" class=\"data row16 col18\" >0.004316</td>\n",
       "      <td id=\"T_896e3_row16_col19\" class=\"data row16 col19\" >0.023611</td>\n",
       "    </tr>\n",
       "    <tr>\n",
       "      <th id=\"T_896e3_level0_row17\" class=\"row_heading level0 row17\" >touch_screen</th>\n",
       "      <td id=\"T_896e3_row17_col0\" class=\"data row17 col0\" >-0.010516</td>\n",
       "      <td id=\"T_896e3_row17_col1\" class=\"data row17 col1\" >0.019756</td>\n",
       "      <td id=\"T_896e3_row17_col2\" class=\"data row17 col2\" >-0.017117</td>\n",
       "      <td id=\"T_896e3_row17_col3\" class=\"data row17 col3\" >-0.014828</td>\n",
       "      <td id=\"T_896e3_row17_col4\" class=\"data row17 col4\" >0.016758</td>\n",
       "      <td id=\"T_896e3_row17_col5\" class=\"data row17 col5\" >-0.026999</td>\n",
       "      <td id=\"T_896e3_row17_col6\" class=\"data row17 col6\" >-0.002638</td>\n",
       "      <td id=\"T_896e3_row17_col7\" class=\"data row17 col7\" >-0.014368</td>\n",
       "      <td id=\"T_896e3_row17_col8\" class=\"data row17 col8\" >0.023774</td>\n",
       "      <td id=\"T_896e3_row17_col9\" class=\"data row17 col9\" >-0.008742</td>\n",
       "      <td id=\"T_896e3_row17_col10\" class=\"data row17 col10\" >0.021891</td>\n",
       "      <td id=\"T_896e3_row17_col11\" class=\"data row17 col11\" >-0.001628</td>\n",
       "      <td id=\"T_896e3_row17_col12\" class=\"data row17 col12\" >-0.030455</td>\n",
       "      <td id=\"T_896e3_row17_col13\" class=\"data row17 col13\" >-0.020023</td>\n",
       "      <td id=\"T_896e3_row17_col14\" class=\"data row17 col14\" >0.012720</td>\n",
       "      <td id=\"T_896e3_row17_col15\" class=\"data row17 col15\" >0.017196</td>\n",
       "      <td id=\"T_896e3_row17_col16\" class=\"data row17 col16\" >0.013917</td>\n",
       "      <td id=\"T_896e3_row17_col17\" class=\"data row17 col17\" >1.000000</td>\n",
       "      <td id=\"T_896e3_row17_col18\" class=\"data row17 col18\" >0.011917</td>\n",
       "      <td id=\"T_896e3_row17_col19\" class=\"data row17 col19\" >-0.030411</td>\n",
       "    </tr>\n",
       "    <tr>\n",
       "      <th id=\"T_896e3_level0_row18\" class=\"row_heading level0 row18\" >wifi</th>\n",
       "      <td id=\"T_896e3_row18_col0\" class=\"data row18 col0\" >-0.008343</td>\n",
       "      <td id=\"T_896e3_row18_col1\" class=\"data row18 col1\" >-0.024471</td>\n",
       "      <td id=\"T_896e3_row18_col2\" class=\"data row18 col2\" >0.022740</td>\n",
       "      <td id=\"T_896e3_row18_col3\" class=\"data row18 col3\" >0.020085</td>\n",
       "      <td id=\"T_896e3_row18_col4\" class=\"data row18 col4\" >-0.017620</td>\n",
       "      <td id=\"T_896e3_row18_col5\" class=\"data row18 col5\" >0.006993</td>\n",
       "      <td id=\"T_896e3_row18_col6\" class=\"data row18 col6\" >-0.028353</td>\n",
       "      <td id=\"T_896e3_row18_col7\" class=\"data row18 col7\" >-0.000409</td>\n",
       "      <td id=\"T_896e3_row18_col8\" class=\"data row18 col8\" >-0.009964</td>\n",
       "      <td id=\"T_896e3_row18_col9\" class=\"data row18 col9\" >0.005389</td>\n",
       "      <td id=\"T_896e3_row18_col10\" class=\"data row18 col10\" >0.051824</td>\n",
       "      <td id=\"T_896e3_row18_col11\" class=\"data row18 col11\" >0.030319</td>\n",
       "      <td id=\"T_896e3_row18_col12\" class=\"data row18 col12\" >0.022669</td>\n",
       "      <td id=\"T_896e3_row18_col13\" class=\"data row18 col13\" >0.025929</td>\n",
       "      <td id=\"T_896e3_row18_col14\" class=\"data row18 col14\" >0.035423</td>\n",
       "      <td id=\"T_896e3_row18_col15\" class=\"data row18 col15\" >-0.029504</td>\n",
       "      <td id=\"T_896e3_row18_col16\" class=\"data row18 col16\" >0.004316</td>\n",
       "      <td id=\"T_896e3_row18_col17\" class=\"data row18 col17\" >0.011917</td>\n",
       "      <td id=\"T_896e3_row18_col18\" class=\"data row18 col18\" >1.000000</td>\n",
       "      <td id=\"T_896e3_row18_col19\" class=\"data row18 col19\" >0.018785</td>\n",
       "    </tr>\n",
       "    <tr>\n",
       "      <th id=\"T_896e3_level0_row19\" class=\"row_heading level0 row19\" >price_range</th>\n",
       "      <td id=\"T_896e3_row19_col0\" class=\"data row19 col0\" >0.200723</td>\n",
       "      <td id=\"T_896e3_row19_col1\" class=\"data row19 col1\" >-0.006606</td>\n",
       "      <td id=\"T_896e3_row19_col2\" class=\"data row19 col2\" >0.017444</td>\n",
       "      <td id=\"T_896e3_row19_col3\" class=\"data row19 col3\" >0.021998</td>\n",
       "      <td id=\"T_896e3_row19_col4\" class=\"data row19 col4\" >0.014772</td>\n",
       "      <td id=\"T_896e3_row19_col5\" class=\"data row19 col5\" >0.044435</td>\n",
       "      <td id=\"T_896e3_row19_col6\" class=\"data row19 col6\" >0.000853</td>\n",
       "      <td id=\"T_896e3_row19_col7\" class=\"data row19 col7\" >-0.030302</td>\n",
       "      <td id=\"T_896e3_row19_col8\" class=\"data row19 col8\" >0.004399</td>\n",
       "      <td id=\"T_896e3_row19_col9\" class=\"data row19 col9\" >0.033599</td>\n",
       "      <td id=\"T_896e3_row19_col10\" class=\"data row19 col10\" >0.148858</td>\n",
       "      <td id=\"T_896e3_row19_col11\" class=\"data row19 col11\" >0.165818</td>\n",
       "      <td id=\"T_896e3_row19_col12\" class=\"data row19 col12\" >0.917046</td>\n",
       "      <td id=\"T_896e3_row19_col13\" class=\"data row19 col13\" >0.022986</td>\n",
       "      <td id=\"T_896e3_row19_col14\" class=\"data row19 col14\" >0.038711</td>\n",
       "      <td id=\"T_896e3_row19_col15\" class=\"data row19 col15\" >0.021859</td>\n",
       "      <td id=\"T_896e3_row19_col16\" class=\"data row19 col16\" >0.023611</td>\n",
       "      <td id=\"T_896e3_row19_col17\" class=\"data row19 col17\" >-0.030411</td>\n",
       "      <td id=\"T_896e3_row19_col18\" class=\"data row19 col18\" >0.018785</td>\n",
       "      <td id=\"T_896e3_row19_col19\" class=\"data row19 col19\" >1.000000</td>\n",
       "    </tr>\n",
       "  </tbody>\n",
       "</table>\n"
      ],
      "text/plain": [
       "<pandas.io.formats.style.Styler at 0x1a87b200b10>"
      ]
     },
     "execution_count": 10,
     "metadata": {},
     "output_type": "execute_result"
    }
   ],
   "source": [
    "data.corr().style.background_gradient(cmap = \"Blues\")"
   ]
  },
  {
   "cell_type": "code",
   "execution_count": 11,
   "metadata": {
    "colab": {
     "base_uri": "https://localhost:8080/",
     "height": 708
    },
    "executionInfo": {
     "elapsed": 36,
     "status": "ok",
     "timestamp": 1679414291692,
     "user": {
      "displayName": "Axnusic Edith",
      "userId": "07636372885580572742"
     },
     "user_tz": -345
    },
    "id": "wmEWp29-yso_",
    "outputId": "710b726e-6913-4a22-aefa-e1924c953c59"
   },
   "outputs": [
    {
     "data": {
      "text/html": [
       "<div>\n",
       "<style scoped>\n",
       "    .dataframe tbody tr th:only-of-type {\n",
       "        vertical-align: middle;\n",
       "    }\n",
       "\n",
       "    .dataframe tbody tr th {\n",
       "        vertical-align: top;\n",
       "    }\n",
       "\n",
       "    .dataframe thead th {\n",
       "        text-align: right;\n",
       "    }\n",
       "</style>\n",
       "<table border=\"1\" class=\"dataframe\">\n",
       "  <thead>\n",
       "    <tr style=\"text-align: right;\">\n",
       "      <th></th>\n",
       "      <th>battery_power</th>\n",
       "      <th>dual_sim</th>\n",
       "      <th>four_g</th>\n",
       "      <th>int_memory</th>\n",
       "      <th>px_height</th>\n",
       "      <th>px_width</th>\n",
       "      <th>ram</th>\n",
       "      <th>sc_h</th>\n",
       "      <th>sc_w</th>\n",
       "      <th>wifi</th>\n",
       "      <th>price_range</th>\n",
       "    </tr>\n",
       "  </thead>\n",
       "  <tbody>\n",
       "    <tr>\n",
       "      <th>0</th>\n",
       "      <td>842</td>\n",
       "      <td>0</td>\n",
       "      <td>0</td>\n",
       "      <td>7</td>\n",
       "      <td>20</td>\n",
       "      <td>756</td>\n",
       "      <td>2549</td>\n",
       "      <td>9</td>\n",
       "      <td>7</td>\n",
       "      <td>1</td>\n",
       "      <td>1</td>\n",
       "    </tr>\n",
       "    <tr>\n",
       "      <th>1</th>\n",
       "      <td>1021</td>\n",
       "      <td>1</td>\n",
       "      <td>1</td>\n",
       "      <td>53</td>\n",
       "      <td>905</td>\n",
       "      <td>1988</td>\n",
       "      <td>2631</td>\n",
       "      <td>17</td>\n",
       "      <td>3</td>\n",
       "      <td>0</td>\n",
       "      <td>2</td>\n",
       "    </tr>\n",
       "    <tr>\n",
       "      <th>2</th>\n",
       "      <td>563</td>\n",
       "      <td>1</td>\n",
       "      <td>1</td>\n",
       "      <td>41</td>\n",
       "      <td>1263</td>\n",
       "      <td>1716</td>\n",
       "      <td>2603</td>\n",
       "      <td>11</td>\n",
       "      <td>2</td>\n",
       "      <td>0</td>\n",
       "      <td>2</td>\n",
       "    </tr>\n",
       "    <tr>\n",
       "      <th>3</th>\n",
       "      <td>615</td>\n",
       "      <td>0</td>\n",
       "      <td>0</td>\n",
       "      <td>10</td>\n",
       "      <td>1216</td>\n",
       "      <td>1786</td>\n",
       "      <td>2769</td>\n",
       "      <td>16</td>\n",
       "      <td>8</td>\n",
       "      <td>0</td>\n",
       "      <td>2</td>\n",
       "    </tr>\n",
       "    <tr>\n",
       "      <th>4</th>\n",
       "      <td>1821</td>\n",
       "      <td>0</td>\n",
       "      <td>1</td>\n",
       "      <td>44</td>\n",
       "      <td>1208</td>\n",
       "      <td>1212</td>\n",
       "      <td>1411</td>\n",
       "      <td>8</td>\n",
       "      <td>2</td>\n",
       "      <td>0</td>\n",
       "      <td>1</td>\n",
       "    </tr>\n",
       "    <tr>\n",
       "      <th>...</th>\n",
       "      <td>...</td>\n",
       "      <td>...</td>\n",
       "      <td>...</td>\n",
       "      <td>...</td>\n",
       "      <td>...</td>\n",
       "      <td>...</td>\n",
       "      <td>...</td>\n",
       "      <td>...</td>\n",
       "      <td>...</td>\n",
       "      <td>...</td>\n",
       "      <td>...</td>\n",
       "    </tr>\n",
       "    <tr>\n",
       "      <th>1995</th>\n",
       "      <td>794</td>\n",
       "      <td>1</td>\n",
       "      <td>1</td>\n",
       "      <td>2</td>\n",
       "      <td>1222</td>\n",
       "      <td>1890</td>\n",
       "      <td>668</td>\n",
       "      <td>13</td>\n",
       "      <td>4</td>\n",
       "      <td>0</td>\n",
       "      <td>0</td>\n",
       "    </tr>\n",
       "    <tr>\n",
       "      <th>1996</th>\n",
       "      <td>1965</td>\n",
       "      <td>1</td>\n",
       "      <td>0</td>\n",
       "      <td>39</td>\n",
       "      <td>915</td>\n",
       "      <td>1965</td>\n",
       "      <td>2032</td>\n",
       "      <td>11</td>\n",
       "      <td>10</td>\n",
       "      <td>1</td>\n",
       "      <td>2</td>\n",
       "    </tr>\n",
       "    <tr>\n",
       "      <th>1997</th>\n",
       "      <td>1911</td>\n",
       "      <td>1</td>\n",
       "      <td>1</td>\n",
       "      <td>36</td>\n",
       "      <td>868</td>\n",
       "      <td>1632</td>\n",
       "      <td>3057</td>\n",
       "      <td>9</td>\n",
       "      <td>1</td>\n",
       "      <td>0</td>\n",
       "      <td>3</td>\n",
       "    </tr>\n",
       "    <tr>\n",
       "      <th>1998</th>\n",
       "      <td>1512</td>\n",
       "      <td>0</td>\n",
       "      <td>1</td>\n",
       "      <td>46</td>\n",
       "      <td>336</td>\n",
       "      <td>670</td>\n",
       "      <td>869</td>\n",
       "      <td>18</td>\n",
       "      <td>10</td>\n",
       "      <td>1</td>\n",
       "      <td>0</td>\n",
       "    </tr>\n",
       "    <tr>\n",
       "      <th>1999</th>\n",
       "      <td>510</td>\n",
       "      <td>1</td>\n",
       "      <td>1</td>\n",
       "      <td>45</td>\n",
       "      <td>483</td>\n",
       "      <td>754</td>\n",
       "      <td>3919</td>\n",
       "      <td>19</td>\n",
       "      <td>4</td>\n",
       "      <td>1</td>\n",
       "      <td>3</td>\n",
       "    </tr>\n",
       "  </tbody>\n",
       "</table>\n",
       "<p>2000 rows × 11 columns</p>\n",
       "</div>"
      ],
      "text/plain": [
       "      battery_power  dual_sim  four_g  int_memory  px_height  px_width   ram  \\\n",
       "0               842         0       0           7         20       756  2549   \n",
       "1              1021         1       1          53        905      1988  2631   \n",
       "2               563         1       1          41       1263      1716  2603   \n",
       "3               615         0       0          10       1216      1786  2769   \n",
       "4              1821         0       1          44       1208      1212  1411   \n",
       "...             ...       ...     ...         ...        ...       ...   ...   \n",
       "1995            794         1       1           2       1222      1890   668   \n",
       "1996           1965         1       0          39        915      1965  2032   \n",
       "1997           1911         1       1          36        868      1632  3057   \n",
       "1998           1512         0       1          46        336       670   869   \n",
       "1999            510         1       1          45        483       754  3919   \n",
       "\n",
       "      sc_h  sc_w  wifi  price_range  \n",
       "0        9     7     1            1  \n",
       "1       17     3     0            2  \n",
       "2       11     2     0            2  \n",
       "3       16     8     0            2  \n",
       "4        8     2     0            1  \n",
       "...    ...   ...   ...          ...  \n",
       "1995    13     4     0            0  \n",
       "1996    11    10     1            2  \n",
       "1997     9     1     0            3  \n",
       "1998    18    10     1            0  \n",
       "1999    19     4     1            3  \n",
       "\n",
       "[2000 rows x 11 columns]"
      ]
     },
     "execution_count": 11,
     "metadata": {},
     "output_type": "execute_result"
    }
   ],
   "source": [
    "columns = data.columns[data.any()].tolist()\n",
    "a = []\n",
    "b = []\n",
    "for item in columns:\n",
    "  a.append(data[item].min())\n",
    "  b.append(data[item].max())\n",
    "df = pd.DataFrame(columns, columns = ['Col'])\n",
    "df['min']= a\n",
    "df['max'] = b\n",
    "\n",
    "#Droping unnessesary parameters\n",
    "\n",
    "data= data.drop([\"clock_speed\",\"fc\", \"m_dep\",\"mobile_wt\",\"n_cores\",\"pc\", \"talk_time\", \"three_g\", \"touch_screen\", \"blue\"], axis=1)\n",
    "data\n"
   ]
  },
  {
   "cell_type": "code",
   "execution_count": 12,
   "metadata": {
    "colab": {
     "base_uri": "https://localhost:8080/"
    },
    "executionInfo": {
     "elapsed": 464,
     "status": "ok",
     "timestamp": 1679414544602,
     "user": {
      "displayName": "Axnusic Edith",
      "userId": "07636372885580572742"
     },
     "user_tz": -345
    },
    "id": "gft7dh3t17TE",
    "outputId": "3fc3da9e-7b79-4974-c4d2-62d225fdd69b"
   },
   "outputs": [
    {
     "name": "stdout",
     "output_type": "stream",
     "text": [
      "Index(['dual_sim', 'four_g', 'wifi'], dtype='object')\n"
     ]
    }
   ],
   "source": [
    "# get columns whose min is 0 and max is 1\n",
    "cols = data.columns[(data.min() == 0) & (data.max() == 1)]\n",
    "\n",
    "# print the selected columns\n",
    "print(cols)"
   ]
  },
  {
   "cell_type": "code",
   "execution_count": 13,
   "metadata": {
    "colab": {
     "base_uri": "https://localhost:8080/"
    },
    "executionInfo": {
     "elapsed": 1350,
     "status": "ok",
     "timestamp": 1679414989665,
     "user": {
      "displayName": "Prabin Shrestha",
      "userId": "11724495329162452458"
     },
     "user_tz": -345
    },
    "id": "oT2r2fn-6my9",
    "outputId": "722aa48a-a161-45dc-9c3c-1ca19e919a25"
   },
   "outputs": [
    {
     "name": "stdout",
     "output_type": "stream",
     "text": [
      "dual_sim    object\n",
      "four_g      object\n",
      "wifi        object\n",
      "dtype: object\n"
     ]
    }
   ],
   "source": [
    "data[cols] = data[cols].astype('object')\n",
    "print(data[cols].dtypes)"
   ]
  },
  {
   "cell_type": "markdown",
   "metadata": {
    "id": "33Escgyb7WDj"
   },
   "source": [
    "# categorical features\n",
    "\n"
   ]
  },
  {
   "cell_type": "code",
   "execution_count": 14,
   "metadata": {
    "colab": {
     "base_uri": "https://localhost:8080/"
    },
    "executionInfo": {
     "elapsed": 6,
     "status": "ok",
     "timestamp": 1679414992576,
     "user": {
      "displayName": "Prabin Shrestha",
      "userId": "11724495329162452458"
     },
     "user_tz": -345
    },
    "id": "bPxzwsC_7TIo",
    "outputId": "47e5438a-eb10-4bb8-8483-d159267287cd"
   },
   "outputs": [
    {
     "data": {
      "text/plain": [
       "['dual_sim', 'four_g', 'wifi']"
      ]
     },
     "execution_count": 14,
     "metadata": {},
     "output_type": "execute_result"
    }
   ],
   "source": [
    "cat_features = [i for i in data.columns if data.dtypes[i]=='object']\n",
    "cat_features\n"
   ]
  },
  {
   "cell_type": "markdown",
   "metadata": {
    "id": "DDRd23Pk71b9"
   },
   "source": [
    "# Numerical Features"
   ]
  },
  {
   "cell_type": "code",
   "execution_count": 15,
   "metadata": {
    "id": "D28UOq6i7zWW"
   },
   "outputs": [
    {
     "data": {
      "text/plain": [
       "['battery_power',\n",
       " 'int_memory',\n",
       " 'px_height',\n",
       " 'px_width',\n",
       " 'ram',\n",
       " 'sc_h',\n",
       " 'sc_w',\n",
       " 'price_range']"
      ]
     },
     "execution_count": 15,
     "metadata": {},
     "output_type": "execute_result"
    }
   ],
   "source": [
    "num_features = [i for i in data.columns if data.dtypes[i] in ['int64', 'float']]\n",
    "num_features[: -1]\n",
    "num_features"
   ]
  },
  {
   "cell_type": "code",
   "execution_count": 16,
   "metadata": {},
   "outputs": [
    {
     "data": {
      "text/plain": [
       "1    500\n",
       "2    500\n",
       "3    500\n",
       "0    500\n",
       "Name: price_range, dtype: int64"
      ]
     },
     "execution_count": 16,
     "metadata": {},
     "output_type": "execute_result"
    }
   ],
   "source": [
    "data.loc[:,'price_range'].value_counts()\n",
    "\n"
   ]
  },
  {
   "cell_type": "code",
   "execution_count": 17,
   "metadata": {},
   "outputs": [
    {
     "data": {
      "text/plain": [
       "<Axes: xlabel='price_range', ylabel='count'>"
      ]
     },
     "execution_count": 17,
     "metadata": {},
     "output_type": "execute_result"
    },
    {
     "data": {
      "image/png": "[encoded data removed]",
      "text/plain": [
       "<Figure size 640x480 with 1 Axes>"
      ]
     },
     "metadata": {},
     "output_type": "display_data"
    }
   ],
   "source": [
    "sns.countplot(x = 'price_range',data = data)\n"
   ]
  },
  {
   "cell_type": "code",
   "execution_count": 18,
   "metadata": {},
   "outputs": [
    {
     "name": "stderr",
     "output_type": "stream",
     "text": [
      "C:\\Users\\sharm\\AppData\\Local\\Temp\\ipykernel_704\\3124321616.py:2: FutureWarning: The default value of numeric_only in DataFrame.corr is deprecated. In a future version, it will default to False. Select only valid columns or specify the value of numeric_only to silence this warning.\n",
      "  sns.heatmap(data.corr(),annot = True, linewidth = 2 )\n"
     ]
    },
    {
     "data": {
      "image/png": "[encoded data removed]",
      "text/plain": [
       "<Figure size 2000x1200 with 2 Axes>"
      ]
     },
     "metadata": {},
     "output_type": "display_data"
    }
   ],
   "source": [
    "plt.figure(figsize=(20,12))\n",
    "sns.heatmap(data.corr(),annot = True, linewidth = 2 )\n",
    "plt.tight_layout()"
   ]
  },
  {
   "cell_type": "code",
   "execution_count": 19,
   "metadata": {},
   "outputs": [
    {
     "name": "stderr",
     "output_type": "stream",
     "text": [
      "C:\\Users\\sharm\\AppData\\Local\\Temp\\ipykernel_704\\1726693767.py:1: FutureWarning: The default value of numeric_only in DataFrame.corrwith is deprecated. In a future version, it will default to False. Select only valid columns or specify the value of numeric_only to silence this warning.\n",
      "  data.drop('price_range', axis=1).corrwith(data.price_range).plot(kind = 'bar', grid = True, figsize=(20,10),\n"
     ]
    },
    {
     "data": {
      "text/plain": [
       "<Axes: title={'center': 'Correlation with target feature'}>"
      ]
     },
     "execution_count": 19,
     "metadata": {},
     "output_type": "execute_result"
    },
    {
     "data": {
      "image/png": "[encoded data removed]",
      "text/plain": [
       "<Figure size 2000x1000 with 1 Axes>"
      ]
     },
     "metadata": {},
     "output_type": "display_data"
    }
   ],
   "source": [
    "data.drop('price_range', axis=1).corrwith(data.price_range).plot(kind = 'bar', grid = True, figsize=(20,10), \n",
    "                                                                 title = 'Correlation with target feature')\n",
    "\n"
   ]
  },
  {
   "cell_type": "markdown",
   "metadata": {},
   "source": [
    "# Exploring Numerical Features"
   ]
  },
  {
   "cell_type": "code",
   "execution_count": 20,
   "metadata": {},
   "outputs": [
    {
     "data": {
      "image/png": "[encoded data removed]",
      "text/plain": [
       "<Figure size 3200x1600 with 15 Axes>"
      ]
     },
     "metadata": {},
     "output_type": "display_data"
    }
   ],
   "source": [
    "data[num_features].plot(kind='density', layout = (5,3),subplots=True,sharex=False,figsize=(32,16))\n",
    "\n",
    "\n",
    "plt.show()\n"
   ]
  },
  {
   "cell_type": "code",
   "execution_count": 21,
   "metadata": {},
   "outputs": [
    {
     "data": {
      "image/png": "[encoded data removed]",
      "text/plain": [
       "<Figure size 3200x1600 with 9 Axes>"
      ]
     },
     "metadata": {},
     "output_type": "display_data"
    }
   ],
   "source": [
    "data.hist(figsize=(32,16))\n",
    "plt.tight_layout()\n"
   ]
  },
  {
   "cell_type": "code",
   "execution_count": null,
   "metadata": {},
   "outputs": [],
   "source": [
    "#cleaning data\n",
    "#data.describe shows that some values of px_height and sc_w are 0 but generally any mobile device\n",
    "#doesnot have 0 px_height and 0 sc_w"
   ]
  },
  {
   "cell_type": "code",
   "execution_count": 22,
   "metadata": {},
   "outputs": [
    {
     "data": {
      "text/html": [
       "<div>\n",
       "<style scoped>\n",
       "    .dataframe tbody tr th:only-of-type {\n",
       "        vertical-align: middle;\n",
       "    }\n",
       "\n",
       "    .dataframe tbody tr th {\n",
       "        vertical-align: top;\n",
       "    }\n",
       "\n",
       "    .dataframe thead th {\n",
       "        text-align: right;\n",
       "    }\n",
       "</style>\n",
       "<table border=\"1\" class=\"dataframe\">\n",
       "  <thead>\n",
       "    <tr style=\"text-align: right;\">\n",
       "      <th></th>\n",
       "      <th>battery_power</th>\n",
       "      <th>dual_sim</th>\n",
       "      <th>four_g</th>\n",
       "      <th>int_memory</th>\n",
       "      <th>px_height</th>\n",
       "      <th>px_width</th>\n",
       "      <th>ram</th>\n",
       "      <th>sc_h</th>\n",
       "      <th>sc_w</th>\n",
       "      <th>wifi</th>\n",
       "      <th>price_range</th>\n",
       "    </tr>\n",
       "  </thead>\n",
       "  <tbody>\n",
       "    <tr>\n",
       "      <th>1481</th>\n",
       "      <td>1834</td>\n",
       "      <td>0</td>\n",
       "      <td>1</td>\n",
       "      <td>40</td>\n",
       "      <td>0</td>\n",
       "      <td>1987</td>\n",
       "      <td>3692</td>\n",
       "      <td>13</td>\n",
       "      <td>0</td>\n",
       "      <td>0</td>\n",
       "      <td>3</td>\n",
       "    </tr>\n",
       "    <tr>\n",
       "      <th>1933</th>\n",
       "      <td>897</td>\n",
       "      <td>0</td>\n",
       "      <td>1</td>\n",
       "      <td>2</td>\n",
       "      <td>0</td>\n",
       "      <td>994</td>\n",
       "      <td>1958</td>\n",
       "      <td>7</td>\n",
       "      <td>5</td>\n",
       "      <td>0</td>\n",
       "      <td>1</td>\n",
       "    </tr>\n",
       "  </tbody>\n",
       "</table>\n",
       "</div>"
      ],
      "text/plain": [
       "      battery_power dual_sim four_g  int_memory  px_height  px_width   ram  \\\n",
       "1481           1834        0      1          40          0      1987  3692   \n",
       "1933            897        0      1           2          0       994  1958   \n",
       "\n",
       "      sc_h  sc_w wifi  price_range  \n",
       "1481    13     0    0            3  \n",
       "1933     7     5    0            1  "
      ]
     },
     "execution_count": 22,
     "metadata": {},
     "output_type": "execute_result"
    }
   ],
   "source": [
    "data[data['px_height']==0]"
   ]
  },
  {
   "cell_type": "code",
   "execution_count": 23,
   "metadata": {},
   "outputs": [
    {
     "data": {
      "text/html": [
       "<div>\n",
       "<style scoped>\n",
       "    .dataframe tbody tr th:only-of-type {\n",
       "        vertical-align: middle;\n",
       "    }\n",
       "\n",
       "    .dataframe tbody tr th {\n",
       "        vertical-align: top;\n",
       "    }\n",
       "\n",
       "    .dataframe thead th {\n",
       "        text-align: right;\n",
       "    }\n",
       "</style>\n",
       "<table border=\"1\" class=\"dataframe\">\n",
       "  <thead>\n",
       "    <tr style=\"text-align: right;\">\n",
       "      <th></th>\n",
       "      <th>battery_power</th>\n",
       "      <th>dual_sim</th>\n",
       "      <th>four_g</th>\n",
       "      <th>int_memory</th>\n",
       "      <th>px_height</th>\n",
       "      <th>px_width</th>\n",
       "      <th>ram</th>\n",
       "      <th>sc_h</th>\n",
       "      <th>sc_w</th>\n",
       "      <th>wifi</th>\n",
       "      <th>price_range</th>\n",
       "    </tr>\n",
       "  </thead>\n",
       "  <tbody>\n",
       "    <tr>\n",
       "      <th>12</th>\n",
       "      <td>1815</td>\n",
       "      <td>0</td>\n",
       "      <td>0</td>\n",
       "      <td>33</td>\n",
       "      <td>607</td>\n",
       "      <td>748</td>\n",
       "      <td>1482</td>\n",
       "      <td>18</td>\n",
       "      <td>0</td>\n",
       "      <td>0</td>\n",
       "      <td>1</td>\n",
       "    </tr>\n",
       "    <tr>\n",
       "      <th>24</th>\n",
       "      <td>503</td>\n",
       "      <td>1</td>\n",
       "      <td>1</td>\n",
       "      <td>8</td>\n",
       "      <td>201</td>\n",
       "      <td>1245</td>\n",
       "      <td>2583</td>\n",
       "      <td>11</td>\n",
       "      <td>0</td>\n",
       "      <td>0</td>\n",
       "      <td>1</td>\n",
       "    </tr>\n",
       "    <tr>\n",
       "      <th>33</th>\n",
       "      <td>1310</td>\n",
       "      <td>1</td>\n",
       "      <td>1</td>\n",
       "      <td>51</td>\n",
       "      <td>178</td>\n",
       "      <td>1919</td>\n",
       "      <td>3845</td>\n",
       "      <td>7</td>\n",
       "      <td>0</td>\n",
       "      <td>0</td>\n",
       "      <td>3</td>\n",
       "    </tr>\n",
       "    <tr>\n",
       "      <th>42</th>\n",
       "      <td>1253</td>\n",
       "      <td>1</td>\n",
       "      <td>1</td>\n",
       "      <td>5</td>\n",
       "      <td>685</td>\n",
       "      <td>714</td>\n",
       "      <td>1878</td>\n",
       "      <td>15</td>\n",
       "      <td>0</td>\n",
       "      <td>0</td>\n",
       "      <td>1</td>\n",
       "    </tr>\n",
       "    <tr>\n",
       "      <th>50</th>\n",
       "      <td>1547</td>\n",
       "      <td>1</td>\n",
       "      <td>1</td>\n",
       "      <td>14</td>\n",
       "      <td>1042</td>\n",
       "      <td>1832</td>\n",
       "      <td>2059</td>\n",
       "      <td>5</td>\n",
       "      <td>0</td>\n",
       "      <td>1</td>\n",
       "      <td>2</td>\n",
       "    </tr>\n",
       "    <tr>\n",
       "      <th>...</th>\n",
       "      <td>...</td>\n",
       "      <td>...</td>\n",
       "      <td>...</td>\n",
       "      <td>...</td>\n",
       "      <td>...</td>\n",
       "      <td>...</td>\n",
       "      <td>...</td>\n",
       "      <td>...</td>\n",
       "      <td>...</td>\n",
       "      <td>...</td>\n",
       "      <td>...</td>\n",
       "    </tr>\n",
       "    <tr>\n",
       "      <th>1918</th>\n",
       "      <td>772</td>\n",
       "      <td>1</td>\n",
       "      <td>1</td>\n",
       "      <td>23</td>\n",
       "      <td>317</td>\n",
       "      <td>1805</td>\n",
       "      <td>2782</td>\n",
       "      <td>7</td>\n",
       "      <td>0</td>\n",
       "      <td>0</td>\n",
       "      <td>2</td>\n",
       "    </tr>\n",
       "    <tr>\n",
       "      <th>1920</th>\n",
       "      <td>591</td>\n",
       "      <td>1</td>\n",
       "      <td>1</td>\n",
       "      <td>16</td>\n",
       "      <td>892</td>\n",
       "      <td>1603</td>\n",
       "      <td>3746</td>\n",
       "      <td>5</td>\n",
       "      <td>0</td>\n",
       "      <td>0</td>\n",
       "      <td>3</td>\n",
       "    </tr>\n",
       "    <tr>\n",
       "      <th>1946</th>\n",
       "      <td>590</td>\n",
       "      <td>1</td>\n",
       "      <td>0</td>\n",
       "      <td>32</td>\n",
       "      <td>227</td>\n",
       "      <td>509</td>\n",
       "      <td>1817</td>\n",
       "      <td>10</td>\n",
       "      <td>0</td>\n",
       "      <td>0</td>\n",
       "      <td>0</td>\n",
       "    </tr>\n",
       "    <tr>\n",
       "      <th>1954</th>\n",
       "      <td>686</td>\n",
       "      <td>1</td>\n",
       "      <td>0</td>\n",
       "      <td>36</td>\n",
       "      <td>64</td>\n",
       "      <td>745</td>\n",
       "      <td>1503</td>\n",
       "      <td>10</td>\n",
       "      <td>0</td>\n",
       "      <td>0</td>\n",
       "      <td>0</td>\n",
       "    </tr>\n",
       "    <tr>\n",
       "      <th>1981</th>\n",
       "      <td>1454</td>\n",
       "      <td>0</td>\n",
       "      <td>0</td>\n",
       "      <td>6</td>\n",
       "      <td>698</td>\n",
       "      <td>1018</td>\n",
       "      <td>1300</td>\n",
       "      <td>10</td>\n",
       "      <td>0</td>\n",
       "      <td>1</td>\n",
       "      <td>1</td>\n",
       "    </tr>\n",
       "  </tbody>\n",
       "</table>\n",
       "<p>180 rows × 11 columns</p>\n",
       "</div>"
      ],
      "text/plain": [
       "      battery_power dual_sim four_g  int_memory  px_height  px_width   ram  \\\n",
       "12             1815        0      0          33        607       748  1482   \n",
       "24              503        1      1           8        201      1245  2583   \n",
       "33             1310        1      1          51        178      1919  3845   \n",
       "42             1253        1      1           5        685       714  1878   \n",
       "50             1547        1      1          14       1042      1832  2059   \n",
       "...             ...      ...    ...         ...        ...       ...   ...   \n",
       "1918            772        1      1          23        317      1805  2782   \n",
       "1920            591        1      1          16        892      1603  3746   \n",
       "1946            590        1      0          32        227       509  1817   \n",
       "1954            686        1      0          36         64       745  1503   \n",
       "1981           1454        0      0           6        698      1018  1300   \n",
       "\n",
       "      sc_h  sc_w wifi  price_range  \n",
       "12      18     0    0            1  \n",
       "24      11     0    0            1  \n",
       "33       7     0    0            3  \n",
       "42      15     0    0            1  \n",
       "50       5     0    1            2  \n",
       "...    ...   ...  ...          ...  \n",
       "1918     7     0    0            2  \n",
       "1920     5     0    0            3  \n",
       "1946    10     0    0            0  \n",
       "1954    10     0    0            0  \n",
       "1981    10     0    1            1  \n",
       "\n",
       "[180 rows x 11 columns]"
      ]
     },
     "execution_count": 23,
     "metadata": {},
     "output_type": "execute_result"
    }
   ],
   "source": [
    "data[data['sc_w']==0]"
   ]
  },
  {
   "cell_type": "code",
   "execution_count": 24,
   "metadata": {},
   "outputs": [],
   "source": [
    "#changing 0 to nan and using KNN imputer to take care of nan data\n",
    "from sklearn.impute import KNNImputer\n",
    "imputer = KNNImputer(n_neighbors = 2)\n",
    "data['px_height'] = data['px_height'].replace(0, np.nan)\n",
    "data['sc_w'] = data['sc_w'].replace(0, np.nan)\n",
    "\n",
    "data[['px_height','sc_w']] = imputer.fit_transform(data[['px_height','sc_w']])"
   ]
  },
  {
   "cell_type": "code",
   "execution_count": 25,
   "metadata": {},
   "outputs": [
    {
     "name": "stderr",
     "output_type": "stream",
     "text": [
      "C:\\Users\\sharm\\AppData\\Local\\Temp\\ipykernel_704\\1462187814.py:2: UserWarning: \n",
      "\n",
      "`distplot` is a deprecated function and will be removed in seaborn v0.14.0.\n",
      "\n",
      "Please adapt your code to use either `displot` (a figure-level function with\n",
      "similar flexibility) or `histplot` (an axes-level function for histograms).\n",
      "\n",
      "For a guide to updating your code to use the new functions, please see\n",
      "https://gist.github.com/mwaskom/de44147ed2974457ad6372750bbe5751\n",
      "\n",
      "  sns.distplot(data['sc_w'])\n",
      "No artists with labels found to put in legend.  Note that artists whose label start with an underscore are ignored when legend() is called with no argument.\n"
     ]
    },
    {
     "data": {
      "text/plain": [
       "<matplotlib.legend.Legend at 0x1a87d3b2890>"
      ]
     },
     "execution_count": 25,
     "metadata": {},
     "output_type": "execute_result"
    },
    {
     "data": {
      "image/png": "[encoded data removed]",
      "text/plain": [
       "<Figure size 640x480 with 1 Axes>"
      ]
     },
     "metadata": {},
     "output_type": "display_data"
    }
   ],
   "source": [
    "fig = plt.figure(2)\n",
    "sns.distplot(data['sc_w'])\n",
    "plt.legend()\n"
   ]
  },
  {
   "cell_type": "code",
   "execution_count": null,
   "metadata": {},
   "outputs": [],
   "source": []
  },
  {
   "cell_type": "code",
   "execution_count": 26,
   "metadata": {},
   "outputs": [
    {
     "data": {
      "text/html": [
       "<div>\n",
       "<style scoped>\n",
       "    .dataframe tbody tr th:only-of-type {\n",
       "        vertical-align: middle;\n",
       "    }\n",
       "\n",
       "    .dataframe tbody tr th {\n",
       "        vertical-align: top;\n",
       "    }\n",
       "\n",
       "    .dataframe thead th {\n",
       "        text-align: right;\n",
       "    }\n",
       "</style>\n",
       "<table border=\"1\" class=\"dataframe\">\n",
       "  <thead>\n",
       "    <tr style=\"text-align: right;\">\n",
       "      <th></th>\n",
       "      <th>battery_power</th>\n",
       "      <th>dual_sim</th>\n",
       "      <th>four_g</th>\n",
       "      <th>int_memory</th>\n",
       "      <th>px_height</th>\n",
       "      <th>px_width</th>\n",
       "      <th>ram</th>\n",
       "      <th>sc_h</th>\n",
       "      <th>sc_w</th>\n",
       "      <th>wifi</th>\n",
       "      <th>price_range</th>\n",
       "    </tr>\n",
       "  </thead>\n",
       "  <tbody>\n",
       "    <tr>\n",
       "      <th>0</th>\n",
       "      <td>842</td>\n",
       "      <td>0</td>\n",
       "      <td>0</td>\n",
       "      <td>7</td>\n",
       "      <td>20.0</td>\n",
       "      <td>756</td>\n",
       "      <td>2549</td>\n",
       "      <td>9</td>\n",
       "      <td>7.0</td>\n",
       "      <td>1</td>\n",
       "      <td>1</td>\n",
       "    </tr>\n",
       "    <tr>\n",
       "      <th>1</th>\n",
       "      <td>1021</td>\n",
       "      <td>1</td>\n",
       "      <td>1</td>\n",
       "      <td>53</td>\n",
       "      <td>905.0</td>\n",
       "      <td>1988</td>\n",
       "      <td>2631</td>\n",
       "      <td>17</td>\n",
       "      <td>3.0</td>\n",
       "      <td>0</td>\n",
       "      <td>2</td>\n",
       "    </tr>\n",
       "    <tr>\n",
       "      <th>2</th>\n",
       "      <td>563</td>\n",
       "      <td>1</td>\n",
       "      <td>1</td>\n",
       "      <td>41</td>\n",
       "      <td>1263.0</td>\n",
       "      <td>1716</td>\n",
       "      <td>2603</td>\n",
       "      <td>11</td>\n",
       "      <td>2.0</td>\n",
       "      <td>0</td>\n",
       "      <td>2</td>\n",
       "    </tr>\n",
       "    <tr>\n",
       "      <th>3</th>\n",
       "      <td>615</td>\n",
       "      <td>0</td>\n",
       "      <td>0</td>\n",
       "      <td>10</td>\n",
       "      <td>1216.0</td>\n",
       "      <td>1786</td>\n",
       "      <td>2769</td>\n",
       "      <td>16</td>\n",
       "      <td>8.0</td>\n",
       "      <td>0</td>\n",
       "      <td>2</td>\n",
       "    </tr>\n",
       "    <tr>\n",
       "      <th>4</th>\n",
       "      <td>1821</td>\n",
       "      <td>0</td>\n",
       "      <td>1</td>\n",
       "      <td>44</td>\n",
       "      <td>1208.0</td>\n",
       "      <td>1212</td>\n",
       "      <td>1411</td>\n",
       "      <td>8</td>\n",
       "      <td>2.0</td>\n",
       "      <td>0</td>\n",
       "      <td>1</td>\n",
       "    </tr>\n",
       "    <tr>\n",
       "      <th>...</th>\n",
       "      <td>...</td>\n",
       "      <td>...</td>\n",
       "      <td>...</td>\n",
       "      <td>...</td>\n",
       "      <td>...</td>\n",
       "      <td>...</td>\n",
       "      <td>...</td>\n",
       "      <td>...</td>\n",
       "      <td>...</td>\n",
       "      <td>...</td>\n",
       "      <td>...</td>\n",
       "    </tr>\n",
       "    <tr>\n",
       "      <th>1995</th>\n",
       "      <td>794</td>\n",
       "      <td>1</td>\n",
       "      <td>1</td>\n",
       "      <td>2</td>\n",
       "      <td>1222.0</td>\n",
       "      <td>1890</td>\n",
       "      <td>668</td>\n",
       "      <td>13</td>\n",
       "      <td>4.0</td>\n",
       "      <td>0</td>\n",
       "      <td>0</td>\n",
       "    </tr>\n",
       "    <tr>\n",
       "      <th>1996</th>\n",
       "      <td>1965</td>\n",
       "      <td>1</td>\n",
       "      <td>0</td>\n",
       "      <td>39</td>\n",
       "      <td>915.0</td>\n",
       "      <td>1965</td>\n",
       "      <td>2032</td>\n",
       "      <td>11</td>\n",
       "      <td>10.0</td>\n",
       "      <td>1</td>\n",
       "      <td>2</td>\n",
       "    </tr>\n",
       "    <tr>\n",
       "      <th>1997</th>\n",
       "      <td>1911</td>\n",
       "      <td>1</td>\n",
       "      <td>1</td>\n",
       "      <td>36</td>\n",
       "      <td>868.0</td>\n",
       "      <td>1632</td>\n",
       "      <td>3057</td>\n",
       "      <td>9</td>\n",
       "      <td>1.0</td>\n",
       "      <td>0</td>\n",
       "      <td>3</td>\n",
       "    </tr>\n",
       "    <tr>\n",
       "      <th>1998</th>\n",
       "      <td>1512</td>\n",
       "      <td>0</td>\n",
       "      <td>1</td>\n",
       "      <td>46</td>\n",
       "      <td>336.0</td>\n",
       "      <td>670</td>\n",
       "      <td>869</td>\n",
       "      <td>18</td>\n",
       "      <td>10.0</td>\n",
       "      <td>1</td>\n",
       "      <td>0</td>\n",
       "    </tr>\n",
       "    <tr>\n",
       "      <th>1999</th>\n",
       "      <td>510</td>\n",
       "      <td>1</td>\n",
       "      <td>1</td>\n",
       "      <td>45</td>\n",
       "      <td>483.0</td>\n",
       "      <td>754</td>\n",
       "      <td>3919</td>\n",
       "      <td>19</td>\n",
       "      <td>4.0</td>\n",
       "      <td>1</td>\n",
       "      <td>3</td>\n",
       "    </tr>\n",
       "  </tbody>\n",
       "</table>\n",
       "<p>2000 rows × 11 columns</p>\n",
       "</div>"
      ],
      "text/plain": [
       "      battery_power dual_sim four_g  int_memory  px_height  px_width   ram  \\\n",
       "0               842        0      0           7       20.0       756  2549   \n",
       "1              1021        1      1          53      905.0      1988  2631   \n",
       "2               563        1      1          41     1263.0      1716  2603   \n",
       "3               615        0      0          10     1216.0      1786  2769   \n",
       "4              1821        0      1          44     1208.0      1212  1411   \n",
       "...             ...      ...    ...         ...        ...       ...   ...   \n",
       "1995            794        1      1           2     1222.0      1890   668   \n",
       "1996           1965        1      0          39      915.0      1965  2032   \n",
       "1997           1911        1      1          36      868.0      1632  3057   \n",
       "1998           1512        0      1          46      336.0       670   869   \n",
       "1999            510        1      1          45      483.0       754  3919   \n",
       "\n",
       "      sc_h  sc_w wifi  price_range  \n",
       "0        9   7.0    1            1  \n",
       "1       17   3.0    0            2  \n",
       "2       11   2.0    0            2  \n",
       "3       16   8.0    0            2  \n",
       "4        8   2.0    0            1  \n",
       "...    ...   ...  ...          ...  \n",
       "1995    13   4.0    0            0  \n",
       "1996    11  10.0    1            2  \n",
       "1997     9   1.0    0            3  \n",
       "1998    18  10.0    1            0  \n",
       "1999    19   4.0    1            3  \n",
       "\n",
       "[2000 rows x 11 columns]"
      ]
     },
     "execution_count": 26,
     "metadata": {},
     "output_type": "execute_result"
    }
   ],
   "source": [
    "data"
   ]
  },
  {
   "cell_type": "code",
   "execution_count": null,
   "metadata": {},
   "outputs": [],
   "source": [
    "fig, ax = plt.subplots(3,3,figsize = (16,8))\n",
    "sns.countplot(x=num_features[0],hue='price_range', data=data,ax = ax[0,1])\n",
    "sns.countplot(x=num_features[1],hue='price_range', data=data,ax = ax[0,2])\n",
    "sns.countplot(x=num_features[2],hue='price_range', data=data,ax = ax[1,0])\n",
    "sns.countplot(x=num_features[3],hue='price_range', data=data,ax = ax[1,1])\n",
    "sns.countplot(x=num_features[4],hue='price_range', data=data,ax = ax[1,2])\n",
    "sns.countplot(x=num_features[5],hue='price_range', data=data,ax = ax[2,0])\n",
    "sns.countplot(x=num_features[6],hue='price_range', data=data,ax = ax[2,1])\n",
    "\n",
    "fig.tight_layout()\n"
   ]
  },
  {
   "cell_type": "code",
   "execution_count": null,
   "metadata": {},
   "outputs": [],
   "source": [
    "def kde_numerical_features(column, target) : \n",
    "    fig, ax = plt.subplots(figsize = (5,5))\n",
    "    sns.kdeplot(data[data[target]==0][column], alpha=0.5,shade = True, color=\"red\", label=\"0\", ax = ax)\n",
    "    sns.kdeplot(data[data[target]==1][column], alpha=0.5,shade = True, color=\"blue\", label=\"1\", ax = ax)\n",
    "    sns.kdeplot(data[data[target]==2][column], alpha=0.5,shade = True, color=\"purple\", label='2', ax = ax)\n",
    "    sns.kdeplot(data[data[target]==3][column], alpha=0.5,shade = True, color=\"#fccc79\", label='3', ax = ax)\n",
    "    plt.title('KDE-Plot of {}'.format(column), fontsize = 18)\n",
    "    ax.set_xlabel(column)\n",
    "    ax.set_ylabel(\"Frequency\")\n",
    "    ax.legend()\n",
    "    plt.show()"
   ]
  },
  {
   "cell_type": "code",
   "execution_count": null,
   "metadata": {},
   "outputs": [],
   "source": [
    "for column in num_features:\n",
    "    kde_numerical_features(column, \"price_range\")"
   ]
  },
  {
   "cell_type": "markdown",
   "metadata": {},
   "source": []
  },
  {
   "cell_type": "code",
   "execution_count": null,
   "metadata": {},
   "outputs": [],
   "source": []
  },
  {
   "cell_type": "code",
   "execution_count": null,
   "metadata": {},
   "outputs": [],
   "source": [
    "#multiclass features"
   ]
  },
  {
   "cell_type": "code",
   "execution_count": null,
   "metadata": {},
   "outputs": [],
   "source": [
    "def distribution_categorical_features(data, feature, target) :\n",
    "    sns.set(rc={'figure.figsize':(14,8.27)},font_scale=1.2)\n",
    "    grouped_columns = sns.countplot(x=feature, hue=target, data=data)\n",
    "    grouped_columns.set_title('Countplot for {} {}'.format(target, feature))"
   ]
  },
  {
   "cell_type": "code",
   "execution_count": null,
   "metadata": {},
   "outputs": [],
   "source": [
    "distribution_categorical_features(data, \"wifi\", \"price_range\")"
   ]
  },
  {
   "cell_type": "code",
   "execution_count": null,
   "metadata": {},
   "outputs": [],
   "source": [
    "# every category of price has almost equal number of no wifi and every category of price_range has almost equal number of wifi containing devices"
   ]
  },
  {
   "cell_type": "code",
   "execution_count": null,
   "metadata": {},
   "outputs": [],
   "source": [
    "distribution_categorical_features(data, \"touch_screen\", \"price_range\")"
   ]
  },
  {
   "cell_type": "code",
   "execution_count": null,
   "metadata": {},
   "outputs": [],
   "source": [
    "['blue', 'dual_sim', 'four_g', 'three_g', 'touch_screen', 'wifi']"
   ]
  },
  {
   "cell_type": "code",
   "execution_count": null,
   "metadata": {},
   "outputs": [],
   "source": [
    "distribution_categorical_features(data, \"dual_sim\", \"price_range\")"
   ]
  },
  {
   "cell_type": "code",
   "execution_count": null,
   "metadata": {},
   "outputs": [],
   "source": []
  },
  {
   "cell_type": "code",
   "execution_count": null,
   "metadata": {},
   "outputs": [],
   "source": [
    "distribution_categorical_features(data, \"blue\", \"price_range\")"
   ]
  },
  {
   "cell_type": "code",
   "execution_count": null,
   "metadata": {},
   "outputs": [],
   "source": []
  },
  {
   "cell_type": "code",
   "execution_count": null,
   "metadata": {},
   "outputs": [],
   "source": [
    "distribution_categorical_features(data, \"four_g\", \"price_range\")"
   ]
  },
  {
   "cell_type": "code",
   "execution_count": null,
   "metadata": {},
   "outputs": [],
   "source": []
  },
  {
   "cell_type": "code",
   "execution_count": null,
   "metadata": {},
   "outputs": [],
   "source": []
  },
  {
   "cell_type": "markdown",
   "metadata": {},
   "source": [
    "# Now for the algorithm implementation\n"
   ]
  },
  {
   "cell_type": "code",
   "execution_count": null,
   "metadata": {},
   "outputs": [],
   "source": [
    "final_df = data[num_features]\n",
    "X = final_df.drop(columns=['price_range'],axis=1)\n",
    "y = final_df['price_range']\n",
    "\n"
   ]
  },
  {
   "cell_type": "markdown",
   "metadata": {},
   "source": [
    "Scaling data to make good\n",
    "# important dont scale cat data"
   ]
  },
  {
   "cell_type": "code",
   "execution_count": null,
   "metadata": {},
   "outputs": [],
   "source": [
    "from sklearn.preprocessing import StandardScaler\n",
    "from sklearn.model_selection import train_test_split\n",
    "\n",
    "standardizer = StandardScaler()\n",
    "X_scaled_list = standardizer.fit_transform(X)\n",
    "num_data = np.array(X_scaled_list)\n",
    "cat_data = np.array(data[cat_features].values.tolist())"
   ]
  },
  {
   "cell_type": "code",
   "execution_count": null,
   "metadata": {},
   "outputs": [],
   "source": [
    "X_scaled = np.concatenate((num_data,cat_data), axis=1)\n",
    "X_scaled = X_scaled.tolist()"
   ]
  },
  {
   "cell_type": "code",
   "execution_count": null,
   "metadata": {},
   "outputs": [],
   "source": [
    "from sklearn.linear_model import LogisticRegression\n",
    "from sklearn.svm import LinearSVC\n",
    "from sklearn.tree import DecisionTreeClassifier\n",
    "from sklearn.ensemble import RandomForestClassifier, GradientBoostingClassifier\n",
    "from sklearn.naive_bayes import GaussianNB\n",
    "from sklearn.neighbors import KNeighborsClassifier\n",
    "\n",
    "from sklearn.metrics import classification_report\n",
    "from sklearn.metrics import confusion_matrix\n",
    "from sklearn import metrics\n",
    "from sklearn.metrics import accuracy_score, precision_score, recall_score, f1_score\n",
    "RANDOM_STATE = 55"
   ]
  },
  {
   "cell_type": "code",
   "execution_count": null,
   "metadata": {},
   "outputs": [],
   "source": [
    "X_train, X_val, y_train, y_val = train_test_split(X_scaled, y, test_size = 0.25, random_state=42)"
   ]
  },
  {
   "cell_type": "code",
   "execution_count": null,
   "metadata": {},
   "outputs": [],
   "source": [
    "\"\"\" print(f\"target proportion: {sum(y_train)/len(y_train)}\") \"\"\"\n",
    "y_train"
   ]
  },
  {
   "cell_type": "code",
   "execution_count": null,
   "metadata": {},
   "outputs": [],
   "source": [
    "min_samples_split_list = [2,10,30,50,100,200,300,700] #integer gives actual sample quantity\n",
    "max_depth_list = [1,2,3,4,8,16,32,64,None] # none means that there is no depth limit\n",
    "n_estimators_list = [10,50,100,200,300,400,500]"
   ]
  },
  {
   "cell_type": "markdown",
   "metadata": {},
   "source": [
    "# Finding hyperparameter minsamplesforsplitting"
   ]
  },
  {
   "cell_type": "code",
   "execution_count": null,
   "metadata": {},
   "outputs": [],
   "source": [
    "import matplotlib.pyplot as plt\n",
    "accuracy_list_train = []\n",
    "accuracy_list_val = []\n",
    "\n",
    "for min_samples_split in min_samples_split_list:\n",
    "    model = RandomForestClassifier(min_samples_split= min_samples_split, random_state = 42).fit(X_train, y_train)\n",
    "    predictions_train = model.predict(X_train)\n",
    "    predictions_val = model.predict(X_val)\n",
    "    accuracy_train = accuracy_score(predictions_train,y_train)\n",
    "    accuracy_val = accuracy_score(predictions_val, y_val)\n",
    "    accuracy_list_train.append(accuracy_train)\n",
    "    accuracy_list_val.append(accuracy_val)\n",
    "\n",
    "plt.title(\"Train x Validation metrices\")\n",
    "plt.xlabel(\"min_samples_split\")\n",
    "plt.ylabel(\"accuracy\")\n",
    "plt.xticks(ticks=range(len(min_samples_split_list)), labels=min_samples_split_list)\n",
    "plt.plot(accuracy_list_train)\n",
    "plt.plot(accuracy_list_val)\n",
    "plt.legend([\"Train\", \"Validation\"])"
   ]
  },
  {
   "cell_type": "markdown",
   "metadata": {},
   "source": [
    "# Increasing min_samples_split \n",
    "\n",
    "Reduces the overfitting drastically train accuracy and test accuracy is near so min_sample_split = 300"
   ]
  },
  {
   "cell_type": "markdown",
   "metadata": {},
   "source": [
    "# Max_depth hyperparameter"
   ]
  },
  {
   "cell_type": "code",
   "execution_count": null,
   "metadata": {},
   "outputs": [],
   "source": [
    "accuracy_list_train = []\n",
    "accuracy_list_val = []\n",
    "for max_depth in max_depth_list:\n",
    "    # You can fit the model at the same time you define it, because the fit function returns the fitted estimator.\n",
    "    model = DecisionTreeClassifier(max_depth = max_depth,\n",
    "                                   random_state = 42).fit(X_train,y_train) \n",
    "    predictions_train = model.predict(X_train) ## The predicted values for the train dataset\n",
    "    predictions_val = model.predict(X_val) ## The predicted values for the test dataset\n",
    "    accuracy_train = accuracy_score(predictions_train,y_train)\n",
    "    accuracy_val = accuracy_score(predictions_val,y_val)\n",
    "    accuracy_list_train.append(accuracy_train)\n",
    "    accuracy_list_val.append(accuracy_val)\n",
    "\n",
    "plt.title('Train x Validation metrics')\n",
    "plt.xlabel('max_depth')\n",
    "plt.ylabel('accuracy')\n",
    "plt.xticks(ticks = range(len(max_depth_list )),labels=max_depth_list)\n",
    "plt.plot(accuracy_list_train)\n",
    "plt.plot(accuracy_list_val)\n",
    "plt.legend(['Train','Validation'])"
   ]
  },
  {
   "cell_type": "markdown",
   "metadata": {},
   "source": [
    "# max_depth = 4  ideal case"
   ]
  },
  {
   "cell_type": "markdown",
   "metadata": {},
   "source": [
    "# n_estimators"
   ]
  },
  {
   "cell_type": "code",
   "execution_count": null,
   "metadata": {},
   "outputs": [],
   "source": [
    "accuracy_list_train = []\n",
    "accuracy_list_val = []\n",
    "for n_estimators in n_estimators_list:\n",
    "    model = RandomForestClassifier(n_estimators = n_estimators, random_state = 42).fit(X_train, y_train)\n",
    "    predictions_train = model.predict(X_train)\n",
    "    predictions_val = model.predict(X_val)\n",
    "    accuracy_train = accuracy_score(predictions_train, y_train)\n",
    "    accuracy_val = accuracy_score(predictions_val, y_val)\n",
    "    accuracy_list_train.append(accuracy_train)\n",
    "    accuracy_list_val.append(accuracy_val)\n",
    "    \n",
    "plt.title('Train x Validation metrics')\n",
    "plt.xlabel('n_estimators')\n",
    "plt.ylabel('accuracy')\n",
    "plt.xticks(ticks = range(len(n_estimators_list )),labels=n_estimators_list)\n",
    "plt.plot(accuracy_list_train)\n",
    "plt.plot(accuracy_list_val)\n",
    "plt.legend(['Train','Validation'])"
   ]
  },
  {
   "cell_type": "markdown",
   "metadata": {},
   "source": [
    "# n_estimators = 400"
   ]
  },
  {
   "cell_type": "code",
   "execution_count": null,
   "metadata": {},
   "outputs": [],
   "source": [
    "random_forest_model = RandomForestClassifier(n_estimators = 400, max_depth = 4 , min_samples_split = 300).fit(X_train, y_train)"
   ]
  },
  {
   "cell_type": "code",
   "execution_count": null,
   "metadata": {},
   "outputs": [],
   "source": [
    "print(f\"Metrics train:\\n\\tAccuracy score: {accuracy_score(random_forest_model.predict(X_train),y_train):.4f}\\nMetrics test:\\n\\tAccuracy score: {accuracy_score(random_forest_model.predict(X_val),y_val):.4f}\")"
   ]
  },
  {
   "cell_type": "markdown",
   "metadata": {},
   "source": [
    "# XG Boost"
   ]
  },
  {
   "cell_type": "code",
   "execution_count": null,
   "metadata": {},
   "outputs": [],
   "source": [
    "from xgboost import XGBClassifier\n",
    "n = int(len(X_train)*0.8) "
   ]
  },
  {
   "cell_type": "code",
   "execution_count": null,
   "metadata": {},
   "outputs": [],
   "source": [
    "X_train_fit, X_train_eval, y_train_fit, y_train_eval = X_train[:n], X_train[n:], y_train[:n], y_train[n:]"
   ]
  },
  {
   "cell_type": "code",
   "execution_count": null,
   "metadata": {},
   "outputs": [],
   "source": [
    "xgb_model = XGBClassifier(n_estimators = 500, learning_rate = 0.1,verbosity = 1, random_state=42)\n",
    "xgb_model.fit(X_train_fit,y_train_fit, eval_set = [(X_train_eval,y_train_eval)], early_stopping_rounds = 10)"
   ]
  },
  {
   "cell_type": "code",
   "execution_count": null,
   "metadata": {},
   "outputs": [],
   "source": [
    "xgb_model.best_iteration"
   ]
  },
  {
   "cell_type": "code",
   "execution_count": null,
   "metadata": {},
   "outputs": [],
   "source": [
    "print(f\"Metrics train:\\n\\tAccuracy score: {accuracy_score(xgb_model.predict(X_train),y_train):.4f}\\nMetrics test:\\n\\tAccuracy score: {accuracy_score(xgb_model.predict(X_val),y_val):.4f}\")"
   ]
  },
  {
   "cell_type": "markdown",
   "metadata": {},
   "source": [
    "# logistic Regression"
   ]
  },
  {
   "cell_type": "code",
   "execution_count": null,
   "metadata": {},
   "outputs": [],
   "source": [
    "logreg = LogisticRegression()\n",
    "\n",
    "logreg.fit(X_train,y_train)\n",
    "y_pred = logreg.predict(X_val)"
   ]
  },
  {
   "cell_type": "code",
   "execution_count": null,
   "metadata": {},
   "outputs": [],
   "source": [
    "import joblib\n",
    "joblib.dump(logreg,r'./dataset/lg.sav')"
   ]
  },
  {
   "cell_type": "code",
   "execution_count": null,
   "metadata": {},
   "outputs": [],
   "source": [
    "print(classification_report(y_val,y_pred))"
   ]
  },
  {
   "cell_type": "code",
   "execution_count": null,
   "metadata": {},
   "outputs": [],
   "source": [
    "print(accuracy_score(y_val,y_pred))"
   ]
  },
  {
   "cell_type": "code",
   "execution_count": null,
   "metadata": {},
   "outputs": [],
   "source": [
    "cnf_matrix = metrics.confusion_matrix(y_val, y_pred)\n",
    "cnf_matrix\n",
    "\n",
    "class_names=[0,1] # name  of classes\n",
    "fig, ax = plt.subplots()\n",
    "tick_marks = np.arange(len(class_names))\n",
    "plt.xticks(tick_marks, class_names)\n",
    "plt.yticks(tick_marks, class_names)\n",
    "\n",
    "# create heatmap\n",
    "sns.heatmap(pd.DataFrame(cnf_matrix), annot=True, cmap=\"YlGnBu\" ,fmt='g')\n",
    "ax.xaxis.set_label_position(\"top\")\n",
    "plt.tight_layout()\n",
    "\n",
    "plt.title('Confusion matrix', y=1.1)\n",
    "plt.ylabel('Actual label')\n",
    "plt.xlabel('Predicted label')\n",
    "\n"
   ]
  },
  {
   "cell_type": "markdown",
   "metadata": {},
   "source": [
    "# Linear SVC"
   ]
  },
  {
   "cell_type": "code",
   "execution_count": null,
   "metadata": {},
   "outputs": [],
   "source": [
    "linear_svc = LinearSVC()"
   ]
  },
  {
   "cell_type": "code",
   "execution_count": null,
   "metadata": {},
   "outputs": [],
   "source": [
    "linear_svc.fit(X_train,y_train)"
   ]
  },
  {
   "cell_type": "code",
   "execution_count": null,
   "metadata": {},
   "outputs": [],
   "source": [
    "y_pred = model.predict(X_val)"
   ]
  },
  {
   "cell_type": "code",
   "execution_count": null,
   "metadata": {},
   "outputs": [],
   "source": [
    "print(classification_report(y_val,y_pred))"
   ]
  },
  {
   "cell_type": "code",
   "execution_count": null,
   "metadata": {},
   "outputs": [],
   "source": [
    "print(accuracy_score(y_val,y_pred))"
   ]
  },
  {
   "cell_type": "code",
   "execution_count": null,
   "metadata": {},
   "outputs": [],
   "source": [
    "cnf_matrix = metrics.confusion_matrix(y_val, y_pred)\n",
    "cnf_matrix\n",
    "\n",
    "class_names=[0,1] # name  of classes\n",
    "fig, ax = plt.subplots()\n",
    "tick_marks = np.arange(len(class_names))\n",
    "plt.xticks(tick_marks, class_names)\n",
    "plt.yticks(tick_marks, class_names)\n",
    "\n",
    "# create heatmap\n",
    "sns.heatmap(pd.DataFrame(cnf_matrix), annot=True, cmap=\"YlGnBu\" ,fmt='g')\n",
    "ax.xaxis.set_label_position(\"top\")\n",
    "plt.tight_layout()\n",
    "\n",
    "plt.title('Confusion matrix', y=1.1)\n",
    "plt.ylabel('Actual label')\n",
    "plt.xlabel('Predicted label')"
   ]
  },
  {
   "cell_type": "markdown",
   "metadata": {},
   "source": [
    "# KNeighbour Classifier"
   ]
  },
  {
   "cell_type": "code",
   "execution_count": null,
   "metadata": {},
   "outputs": [],
   "source": [
    "from sklearn.neighbors import KNeighborsClassifier\n",
    "\n",
    "clf = KNeighborsClassifier(n_neighbors= 5)\n",
    "clf.fit(X_train, y_train)\n",
    "y_pred = clf.predict(X_val)\n",
    "\n",
    "# acc = accuracy_score(y_val,y_pred)\n",
    "\n",
    "# print(acc)\n",
    "print(classification_report(y_val,y_pred))"
   ]
  },
  {
   "cell_type": "markdown",
   "metadata": {},
   "source": [
    "# CAT Boosting"
   ]
  },
  {
   "cell_type": "code",
   "execution_count": null,
   "metadata": {},
   "outputs": [],
   "source": [
    "import catboost as cb\n",
    "cb_clf = cb.CatBoostClassifier()"
   ]
  },
  {
   "cell_type": "code",
   "execution_count": null,
   "metadata": {},
   "outputs": [],
   "source": [
    "cb_clf.fit(X_train,y_train)"
   ]
  },
  {
   "cell_type": "code",
   "execution_count": null,
   "metadata": {},
   "outputs": [],
   "source": [
    "y_pred = model.predict(X_val)"
   ]
  },
  {
   "cell_type": "code",
   "execution_count": null,
   "metadata": {},
   "outputs": [],
   "source": [
    "print(classification_report(y_val,y_pred))\n",
    "print(accuracy_score(y_val,y_pred))"
   ]
  },
  {
   "cell_type": "code",
   "execution_count": null,
   "metadata": {},
   "outputs": [],
   "source": [
    "cnf_matrix = metrics.confusion_matrix(y_val, y_pred)\n",
    "cnf_matrix\n",
    "\n",
    "class_names=[0,1] # name  of classes\n",
    "fig, ax = plt.subplots()\n",
    "tick_marks = np.arange(len(class_names))\n",
    "plt.xticks(tick_marks, class_names)\n",
    "plt.yticks(tick_marks, class_names)\n",
    "\n",
    "# create heatmap\n",
    "sns.heatmap(pd.DataFrame(cnf_matrix), annot=True, cmap=\"YlGnBu\" ,fmt='g')\n",
    "ax.xaxis.set_label_position(\"top\")\n",
    "plt.tight_layout()\n",
    "\n",
    "plt.title('Confusion matrix', y=1.1)\n",
    "plt.ylabel('Actual label')\n",
    "plt.xlabel('Predicted label')"
   ]
  },
  {
   "cell_type": "markdown",
   "metadata": {},
   "source": [
    "# LGBM Classifier"
   ]
  },
  {
   "cell_type": "code",
   "execution_count": null,
   "metadata": {},
   "outputs": [],
   "source": [
    "from lightgbm import LGBMClassifier\n",
    "clf = LGBMClassifier()\n",
    "clf.fit(X_train,y_train)\n",
    "y_pred = clf.predict(X_val)\n",
    "\n",
    "print(classification_report(y_val,y_pred))\n",
    "\n"
   ]
  },
  {
   "cell_type": "code",
   "execution_count": null,
   "metadata": {},
   "outputs": [],
   "source": [
    "cnf_matrix = metrics.confusion_matrix(y_val, y_pred)\n",
    "cnf_matrix\n",
    "\n",
    "class_names=[0,1] # name  of classes\n",
    "fig, ax = plt.subplots()\n",
    "tick_marks = np.arange(len(class_names))\n",
    "plt.xticks(tick_marks, class_names)\n",
    "plt.yticks(tick_marks, class_names)\n",
    "\n",
    "# create heatmap\n",
    "sns.heatmap(pd.DataFrame(cnf_matrix), annot=True, cmap=\"YlGnBu\" ,fmt='g')\n",
    "ax.xaxis.set_label_position(\"top\")\n",
    "plt.tight_layout()\n",
    "\n",
    "plt.title('Confusion matrix', y=1.1)\n",
    "plt.ylabel('Actual label')\n",
    "plt.xlabel('Predicted label')"
   ]
  },
  {
   "cell_type": "code",
   "execution_count": null,
   "metadata": {},
   "outputs": [],
   "source": [
    "#Model Building"
   ]
  },
  {
   "cell_type": "code",
   "execution_count": null,
   "metadata": {},
   "outputs": [],
   "source": []
  },
  {
   "cell_type": "code",
   "execution_count": null,
   "metadata": {},
   "outputs": [],
   "source": [
    "X_train, X_val, y_train, y_val = train_test_split(X_scaled, y, test_size = 0.25, random_state=42)"
   ]
  },
  {
   "cell_type": "code",
   "execution_count": null,
   "metadata": {},
   "outputs": [],
   "source": [
    "from sklearn.linear_model import LogisticRegression\n",
    "from sklearn.ensemble import RandomForestClassifier, GradientBoostingClassifier\n",
    "from sklearn.neighbors import KNeighborsClassifier\n",
    "from sklearn.svm import SVC\n",
    "from lightgbm import LGBMClassifier\n",
    "from sklearn.ensemble import VotingClassifier\n",
    "from sklearn.model_selection import cross_val_score\n",
    "\n",
    "\n",
    "linear_clf = LogisticRegression(C=0.1, solver='liblinear')\n",
    "forest_clf = RandomForestClassifier(random_state = 42 , criterion = 'entropy' , n_estimators = 400, max_depth = 4 , min_samples_split = 200)\n",
    "neighbour_clf = KNeighborsClassifier()\n",
    "gb_clf = XGBClassifier(n_estimators = 500, learning_rate = 0.1,verbosity = 1, random_state=42)\n",
    "lgbm_clf = LGBMClassifier(learning_rate=0.1,max_depth=4,random_state=42)\n",
    "svc_clf = SVC(gamma=\"auto\", C=1, degree=3, kernel='linear', probability=True)\n",
    "\n",
    "voting_clf = VotingClassifier(\n",
    "estimators=[('lr', linear_clf), ('rf', forest_clf),\n",
    "            ('svc', svc_clf), ('knn', neighbour_clf), \n",
    "            ('gb', gb_clf)],\n",
    "    voting='soft')\n",
    "models = [\n",
    "          (\"Logistic\", linear_clf),\n",
    "          (\"Forest\", forest_clf),\n",
    "          (\"KN\", neighbour_clf),\n",
    "          (\"GB\", gb_clf),\n",
    "          (\"LGBM\" , lgbm_clf),\n",
    "          # (\"Cat\", CatBoostClassifier()),\n",
    "          (\"SVC\", svc_clf),\n",
    "          (\"Soft\", voting_clf),\n",
    "]\n",
    "cv = 10\n",
    "\n",
    "\n",
    "def score_models(models, X_train, y_train, cv=cv):\n",
    "  scores = []\n",
    "  for model_name, model in models:\n",
    "    score = cross_val_score(model, X_train, y_train, cv=cv)\n",
    "    print(f\"{model_name}: {np.median(score)}\")\n",
    "    scores.append((model_name, score))\n",
    "  return scores\n",
    "\n",
    "scores = score_models(models, X_train, y_train) "
   ]
  },
  {
   "cell_type": "code",
   "execution_count": null,
   "metadata": {},
   "outputs": [],
   "source": [
    "import matplotlib.pyplot as plt\n",
    "\n",
    "def plot_scores(scores):\n",
    "  plt.figure(figsize=(8, 4))\n",
    "  i = 1\n",
    "  for model_name, score in scores:\n",
    "    plt.plot([i]*cv, score, \".\")\n",
    "    i += 1\n",
    "\n",
    "  plt.boxplot([score for _, score in scores], \n",
    "              labels=[model_name for model_name, _ in scores])\n",
    "  plt.ylabel(\"Accuracy\", fontsize=14)\n",
    "  plt.show()\n",
    "\n",
    "plot_scores(scores)"
   ]
  },
  {
   "cell_type": "code",
   "execution_count": null,
   "metadata": {},
   "outputs": [],
   "source": []
  }
 ],
 "metadata": {
  "colab": {
   "provenance": []
  },
  "kernelspec": {
   "display_name": "Python 3 (ipykernel)",
   "language": "python",
   "name": "python3"
  },
  "language_info": {
   "codemirror_mode": {
    "name": "ipython",
    "version": 3
   },
   "file_extension": ".py",
   "mimetype": "text/x-python",
   "name": "python",
   "nbconvert_exporter": "python",
   "pygments_lexer": "ipython3",
   "version": "3.11.1"
  }
 },
 "nbformat": 4,
 "nbformat_minor": 1
}
